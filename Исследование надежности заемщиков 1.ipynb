{
 "cells": [
  {
   "cell_type": "markdown",
   "id": "ae49445c",
   "metadata": {
    "deletable": false,
    "editable": false,
    "id": "c81daeeb"
   },
   "source": [
    "# Исследование надежности заемщиков"
   ]
  },
  {
   "cell_type": "markdown",
   "id": "13868b83",
   "metadata": {
    "deletable": false,
    "editable": false,
    "id": "-G3EJWzf62s6"
   },
   "source": [
   
   ]
  },
  {
   "cell_type": "markdown",
   "id": "c8d04d49",
   "metadata": {
    "deletable": false,
    "editable": false,
    "id": "744d7639"
   },
   "source": [
 
   ]
  },
  {
   "cell_type": "markdown",
   "id": "1e11d2f9",
   "metadata": {
    "deletable": false,
    "editable": false,
    "id": "e7a14c31",
    "tags": [
     "start_task"
    ]
   },
   "source": [

   ]
  },
  {
   "cell_type": "code",
   "execution_count": 129,
   "id": "240e7d1f",
   "metadata": {
    "id": "7bcf75c9"
   },
   "outputs": [],
   "source": [
    "import pandas as pd "
   ]
  },
  {
   "cell_type": "code",
   "execution_count": 130,
   "id": "3c5d7ef4",
   "metadata": {
    "id": "4d240ee2"
   },
   "outputs": [],
   "source": [
    "data = pd.read_csv('/datasets/data.csv') "
   ]
  },
  {
   "cell_type": "markdown",
   "id": "14ee8a22",
   "metadata": {
    "deletable": false,
    "editable": false,
    "id": "b8038fe3",
    "tags": [
     "start_task"
    ]
   },
   "source": [

   ]
  },
  {
   "cell_type": "code",
   "execution_count": 131,
   "id": "672d5830",
   "metadata": {
    "id": "2a7cab99"
   },
   "outputs": [
    {
     "name": "stdout",
     "output_type": "stream",
     "text": [
      "    children  days_employed  dob_years            education  education_id  \\\n",
      "0          1   -8437.673028         42               высшее             0   \n",
      "1          1   -4024.803754         36              среднее             1   \n",
      "2          0   -5623.422610         33              Среднее             1   \n",
      "3          3   -4124.747207         32              среднее             1   \n",
      "4          0  340266.072047         53              среднее             1   \n",
      "5          0    -926.185831         27               высшее             0   \n",
      "6          0   -2879.202052         43               высшее             0   \n",
      "7          0    -152.779569         50              СРЕДНЕЕ             1   \n",
      "8          2   -6929.865299         35               ВЫСШЕЕ             0   \n",
      "9          0   -2188.756445         41              среднее             1   \n",
      "10         2   -4171.483647         36               высшее             0   \n",
      "11         0    -792.701887         40              среднее             1   \n",
      "12         0            NaN         65              среднее             1   \n",
      "13         0   -1846.641941         54  неоконченное высшее             2   \n",
      "14         0   -1844.956182         56               высшее             0   \n",
      "15         1    -972.364419         26              среднее             1   \n",
      "16         0   -1719.934226         35              среднее             1   \n",
      "17         0   -2369.999720         33               высшее             0   \n",
      "18         0  400281.136913         53              среднее             1   \n",
      "19         0  -10038.818549         48              СРЕДНЕЕ             1   \n",
      "\n",
      "       family_status  family_status_id gender income_type  debt  \\\n",
      "0    женат / замужем                 0      F   сотрудник     0   \n",
      "1    женат / замужем                 0      F   сотрудник     0   \n",
      "2    женат / замужем                 0      M   сотрудник     0   \n",
      "3    женат / замужем                 0      M   сотрудник     0   \n",
      "4   гражданский брак                 1      F   пенсионер     0   \n",
      "5   гражданский брак                 1      M   компаньон     0   \n",
      "6    женат / замужем                 0      F   компаньон     0   \n",
      "7    женат / замужем                 0      M   сотрудник     0   \n",
      "8   гражданский брак                 1      F   сотрудник     0   \n",
      "9    женат / замужем                 0      M   сотрудник     0   \n",
      "10   женат / замужем                 0      M   компаньон     0   \n",
      "11   женат / замужем                 0      F   сотрудник     0   \n",
      "12  гражданский брак                 1      M   пенсионер     0   \n",
      "13   женат / замужем                 0      F   сотрудник     0   \n",
      "14  гражданский брак                 1      F   компаньон     1   \n",
      "15   женат / замужем                 0      F   сотрудник     0   \n",
      "16   женат / замужем                 0      F   сотрудник     0   \n",
      "17  гражданский брак                 1      M   сотрудник     0   \n",
      "18    вдовец / вдова                 2      F   пенсионер     0   \n",
      "19         в разводе                 3      F   сотрудник     0   \n",
      "\n",
      "     total_income                                 purpose  \n",
      "0   253875.639453                           покупка жилья  \n",
      "1   112080.014102                 приобретение автомобиля  \n",
      "2   145885.952297                           покупка жилья  \n",
      "3   267628.550329              дополнительное образование  \n",
      "4   158616.077870                         сыграть свадьбу  \n",
      "5   255763.565419                           покупка жилья  \n",
      "6   240525.971920                       операции с жильем  \n",
      "7   135823.934197                             образование  \n",
      "8    95856.832424                   на проведение свадьбы  \n",
      "9   144425.938277                 покупка жилья для семьи  \n",
      "10  113943.491460                    покупка недвижимости  \n",
      "11   77069.234271       покупка коммерческой недвижимости  \n",
      "12            NaN                         сыграть свадьбу  \n",
      "13  130458.228857                 приобретение автомобиля  \n",
      "14  165127.911772              покупка жилой недвижимости  \n",
      "15  116820.904450  строительство собственной недвижимости  \n",
      "16  289202.704229                            недвижимость  \n",
      "17   90410.586745              строительство недвижимости  \n",
      "18   56823.777243      на покупку подержанного автомобиля  \n",
      "19  242831.107982            на покупку своего автомобиля  \n"
     ]
    }
   ],
   "source": [
    "print(data.head(20))"
   ]
  },
  {
   "cell_type": "markdown",
   "id": "0c801478",
   "metadata": {
    "deletable": false,
    "editable": false,
    "id": "1c12e233",
    "tags": [
     "start_task"
    ]
   },
   "source": [
   
   ]
  },
  {
   "cell_type": "code",
   "execution_count": 132,
   "id": "97692041",
   "metadata": {
    "id": "2b757bca"
   },
   "outputs": [
    {
     "name": "stdout",
     "output_type": "stream",
     "text": [
      "<class 'pandas.core.frame.DataFrame'>\n",
      "RangeIndex: 21525 entries, 0 to 21524\n",
      "Data columns (total 12 columns):\n",
      " #   Column            Non-Null Count  Dtype  \n",
      "---  ------            --------------  -----  \n",
      " 0   children          21525 non-null  int64  \n",
      " 1   days_employed     19351 non-null  float64\n",
      " 2   dob_years         21525 non-null  int64  \n",
      " 3   education         21525 non-null  object \n",
      " 4   education_id      21525 non-null  int64  \n",
      " 5   family_status     21525 non-null  object \n",
      " 6   family_status_id  21525 non-null  int64  \n",
      " 7   gender            21525 non-null  object \n",
      " 8   income_type       21525 non-null  object \n",
      " 9   debt              21525 non-null  int64  \n",
      " 10  total_income      19351 non-null  float64\n",
      " 11  purpose           21525 non-null  object \n",
      "dtypes: float64(2), int64(5), object(5)\n",
      "memory usage: 2.0+ MB\n"
     ]
    }
   ],
   "source": [
    "data.info()"
   ]
  },
  {
   "cell_type": "markdown",
   "id": "8a99126e",
   "metadata": {
    "deletable": false,
    "editable": false,
    "id": "333ec665"
   },
   "source": [
    "## Предобработка данных"
   ]
  },
  {
   "cell_type": "markdown",
   "id": "eac84de2",
   "metadata": {
    "deletable": false,
    "editable": false,
    "id": "02d92d53"
   },
   "source": [
    "### Удаление пропусков"
   ]
  },
  {
   "cell_type": "markdown",
   "id": "19b9b855",
   "metadata": {
    "deletable": false,
    "editable": false,
    "id": "cd84967c",
    "tags": [
     "start_task"
    ]
   },
   "source": [
   
   ]
  },
  {
   "cell_type": "code",
   "execution_count": 133,
   "id": "a420fe6f",
   "metadata": {
    "id": "7f9b2309"
   },
   "outputs": [
    {
     "name": "stdout",
     "output_type": "stream",
     "text": [
      "children               0\n",
      "days_employed       2174\n",
      "dob_years              0\n",
      "education              0\n",
      "education_id           0\n",
      "family_status          0\n",
      "family_status_id       0\n",
      "gender                 0\n",
      "income_type            0\n",
      "debt                   0\n",
      "total_income        2174\n",
      "purpose                0\n",
      "dtype: int64\n"
     ]
    }
   ],
   "source": [
    "print(data.isna().sum())"
   ]
  },
  {
   "cell_type": "markdown",
   "id": "358f0bb9",
   "metadata": {
    "deletable": false,
    "editable": false,
    "id": "db86e27b",
    "tags": [
     "start_task"
    ]
   },
   "source": [
  
   ]
  },
  {
   "cell_type": "code",
   "execution_count": 134,
   "id": "19c9d0b6",
   "metadata": {
    "id": "42006a93"
   },
   "outputs": [],
   "source": [
    "for median_income in data['income_type'].unique():\n",
    "    data.loc[(data['income_type'] == median_income) & (data['total_income'].isna()), 'total_income'] = data.loc[data['income_type'] == median_income]['total_income'].median()"
   ]
  },
  {
   "cell_type": "markdown",
   "id": "752c9f7f",
   "metadata": {
    "deletable": false,
    "editable": false,
    "id": "89da5ece"
   },
   "source": [
    "### Обработка аномальных значений"
   ]
  },
  {
   "cell_type": "markdown",
   "id": "a7a17e83",
   "metadata": {
    "deletable": false,
    "editable": false,
    "id": "57964554",
    "tags": [
     "start_task"
    ]
   },
   "source": [
   
   ]
  },
  {
   "cell_type": "code",
   "execution_count": 135,
   "id": "9449fc91",
   "metadata": {
    "id": "f6f055bf"
   },
   "outputs": [],
   "source": [
    "data['days_employed'] = data['days_employed'].abs()"
   ]
  },
  {
   "cell_type": "markdown",
   "id": "5e9d70cd",
   "metadata": {
    "deletable": false,
    "editable": false,
    "id": "6107dd2f",
    "tags": [
     "start_task"
    ]
   },
   "source": [
    
   ]
  },
  {
   "cell_type": "code",
   "execution_count": 136,
   "id": "93d108c4",
   "metadata": {
    "id": "85a5faf6"
   },
   "outputs": [
    {
     "name": "stdout",
     "output_type": "stream",
     "text": [
      "income_type\n",
      "безработный        366413.652744\n",
      "в декрете            3296.759962\n",
      "госслужащий          2689.368353\n",
      "компаньон            1547.382223\n",
      "пенсионер          365213.306266\n",
      "предприниматель       520.848083\n",
      "сотрудник            1574.202821\n",
      "студент               578.751554\n",
      "Name: days_employed, dtype: float64\n"
     ]
    }
   ],
   "source": [
    "print(data.groupby('income_type')['days_employed'].median())"
   ]
  },
  {
   "cell_type": "markdown",
   "id": "58dd2728",
   "metadata": {
    "deletable": false,
    "editable": false,
    "id": "38d1a030"
   },
   "source": [
    "У двух типов (безработные и пенсионеры) получатся аномально большие значения. Исправить такие значения сложно, поэтому оставим их как есть. Тем более этот столбец не понадобится вам для исследования."
   ]
  },
  {
   "cell_type": "markdown",
   "id": "dc85f6f6",
   "metadata": {
    "deletable": false,
    "editable": false,
    "id": "d8a9f147",
    "tags": [
     "start_task"
    ]
   },
   "source": [

   ]
  },
  {
   "cell_type": "code",
   "execution_count": 137,
   "id": "2efc933d",
   "metadata": {
    "id": "ef5056eb"
   },
   "outputs": [
    {
     "name": "stdout",
     "output_type": "stream",
     "text": [
      "[ 1  0  3  2 -1  4 20  5]\n"
     ]
    }
   ],
   "source": [
    "print(data['children'].unique())"
   ]
  },
  {
   "cell_type": "markdown",
   "id": "1518d7cf",
   "metadata": {
    "deletable": false,
    "editable": false,
    "id": "40b9ebf2",
    "tags": [
     "start_task"
    ]
   },
   "source": [
   
  },
  {
   "cell_type": "code",
   "execution_count": 138,
   "id": "054c03b1",
   "metadata": {
    "id": "3ff9801d"
   },
   "outputs": [],
   "source": [
    "data = data[(data['children'] != -1)&(data['children'] != 20)]"
   ]
  },
  {
   "cell_type": "markdown",
   "id": "419bc75f",
   "metadata": {
    "deletable": false,
    "editable": false,
    "id": "bbc4d0ce",
    "tags": [
     "start_task"
    ]
   },
   "source": [
    
   ]
  },
  {
   "cell_type": "code",
   "execution_count": 139,
   "id": "f4276b23",
   "metadata": {
    "id": "ad4fa8b7"
   },
   "outputs": [
    {
     "name": "stdout",
     "output_type": "stream",
     "text": [
      "[1 0 3 2 4 5]\n"
     ]
    }
   ],
   "source": [
    "print(data['children'].unique())"
   ]
  },
  {
   "cell_type": "markdown",
   "id": "f9eed81f",
   "metadata": {
    "deletable": false,
    "editable": false,
    "id": "75440b63"
   },
   "source": [
    "### Удаление пропусков (продолжение)"
   ]
  },
  {
   "cell_type": "markdown",
   "id": "f892fe18",
   "metadata": {
    "deletable": false,
    "editable": false,
    "id": "f4ea573f",
    "tags": [
     "start_task"
    ]
   },
   "source": [
   
   ]
  },
  {
   "cell_type": "code",
   "execution_count": 140,
   "id": "41618640",
   "metadata": {
    "id": "af6b1a7e"
   },
   "outputs": [],
   "source": [
    "for median_income in data['income_type'].unique():\n",
    "    data.loc[(data['income_type'] == median_income) & (data['days_employed'].isna()), 'days_employed'] = data.loc[data['income_type'] == median_income]['days_employed'].median()"
   ]
  },
  {
   "cell_type": "markdown",
   "id": "7a846886",
   "metadata": {
    "deletable": false,
    "editable": false,
    "id": "2753f40d",
    "tags": [
     "start_task"
    ]
   },
   "source": [
   
   ]
  },
  {
   "cell_type": "code",
   "execution_count": 141,
   "id": "fc56a246",
   "metadata": {
    "id": "55f78bc2"
   },
   "outputs": [
    {
     "name": "stdout",
     "output_type": "stream",
     "text": [
      "children            0\n",
      "days_employed       0\n",
      "dob_years           0\n",
      "education           0\n",
      "education_id        0\n",
      "family_status       0\n",
      "family_status_id    0\n",
      "gender              0\n",
      "income_type         0\n",
      "debt                0\n",
      "total_income        0\n",
      "purpose             0\n",
      "dtype: int64\n"
     ]
    }
   ],
   "source": [
    "print(data.isna().sum())"
   ]
  },
  {
   "cell_type": "markdown",
   "id": "f1179df5",
   "metadata": {
    "deletable": false,
    "editable": false,
    "id": "ddc81e43"
   },
   "source": [
    "### Изменение типов данных"
   ]
  },
  {
   "cell_type": "markdown",
   "id": "2dc66556",
   "metadata": {
    "deletable": false,
    "editable": false,
    "id": "42d19d24",
    "tags": [
     "start_task"
    ]
   },
   "source": [
    
   ]
  },
  {
   "cell_type": "code",
   "execution_count": 142,
   "id": "8245d4ca",
   "metadata": {
    "id": "920b65ad"
   },
   "outputs": [],
   "source": [
    "data['total_income'] = data['total_income'].astype('int')"
   ]
  },
  {
   "cell_type": "markdown",
   "id": "538df32b",
   "metadata": {
    "deletable": false,
    "editable": false,
    "id": "80c420ba"
   },
   "source": [
    "### Обработка дубликатов"
   ]
  },
  {
   "cell_type": "markdown",
   "id": "c1836e53",
   "metadata": {
    "deletable": false,
    "editable": false,
    "tags": [
     "start_task"
    ]
   },
   "source": [
    
   ]
  },
  {
   "cell_type": "code",
   "execution_count": 143,
   "id": "e029667b",
   "metadata": {},
   "outputs": [
    {
     "name": "stdout",
     "output_type": "stream",
     "text": [
      "<class 'pandas.core.frame.DataFrame'>\n",
      "Int64Index: 21402 entries, 0 to 21524\n",
      "Data columns (total 12 columns):\n",
      " #   Column            Non-Null Count  Dtype  \n",
      "---  ------            --------------  -----  \n",
      " 0   children          21402 non-null  int64  \n",
      " 1   days_employed     21402 non-null  float64\n",
      " 2   dob_years         21402 non-null  int64  \n",
      " 3   education         21402 non-null  object \n",
      " 4   education_id      21402 non-null  int64  \n",
      " 5   family_status     21402 non-null  object \n",
      " 6   family_status_id  21402 non-null  int64  \n",
      " 7   gender            21402 non-null  object \n",
      " 8   income_type       21402 non-null  object \n",
      " 9   debt              21402 non-null  int64  \n",
      " 10  total_income      21402 non-null  int64  \n",
      " 11  purpose           21402 non-null  object \n",
      "dtypes: float64(1), int64(6), object(5)\n",
      "memory usage: 2.1+ MB\n",
      "None\n"
     ]
    }
   ],
   "source": [
    "data['education'] = data['education'].str.lower()\n",
    "print(data.info())\n"
   ]
  },
  {
   "cell_type": "markdown",
   "id": "fb6442a3",
   "metadata": {
    "deletable": false,
    "editable": false,
    "id": "dc587695",
    "tags": [
     "start_task"
    ]
   },
   "source": [
   
   ]
  },
  {
   "cell_type": "code",
   "execution_count": 144,
   "id": "6b65b0b1",
   "metadata": {
    "id": "3ee445e4"
   },
   "outputs": [
    {
     "name": "stdout",
     "output_type": "stream",
     "text": [
      "71\n"
     ]
    }
   ],
   "source": [
    "print(data.duplicated().sum())\n",
    "\n"
   ]
  },
  {
   "cell_type": "code",
   "execution_count": 145,
   "id": "58957434",
   "metadata": {
    "id": "8575fe05"
   },
   "outputs": [],
   "source": [
    "data = data.drop_duplicates()"
   ]
  },
  {
   "cell_type": "markdown",
   "id": "fe954eb8",
   "metadata": {
    "deletable": false,
    "editable": false,
    "id": "9904cf55"
   },
   "source": [
    "### Категоризация данных"
   ]
  },
  {
   "cell_type": "markdown",
   "id": "7b2c453b",
   "metadata": {
    "deletable": false,
    "editable": false,
    "id": "72fcc8a2",
    "tags": [
     "start_task"
    ]
   },
   "source": [
   
    "\n",
    "- 0–30000 — `'E'`;\n",
    "- 30001–50000 — `'D'`;\n",
    "- 50001–200000 — `'C'`;\n",
    "- 200001–1000000 — `'B'`;\n",
    "- 1000001 и выше — `'A'`.\n",
    "\n",
    "\n",
    "**Например, кредитополучателю с доходом 25000 нужно назначить категорию `'E'`, а клиенту, получающему 235000, — `'B'`. Используем собственную функцию с именем `categorize_income()` и метод `apply()`.**"
   ]
  },
  {
   "cell_type": "code",
   "execution_count": 146,
   "id": "4354d5da",
   "metadata": {
    "id": "e1771346"
   },
   "outputs": [],
   "source": [
    "def categorize_income(row):    \n",
    "    \n",
    "    tot_inc = row['total_income']\n",
    "    \n",
    "    if tot_inc < 30000:    \n",
    "        return 'E'\n",
    "    if tot_inc < 50000:   \n",
    "        return 'D'\n",
    "    if tot_inc < 200000:    \n",
    "        return 'C'\n",
    "    if tot_inc < 1000000:    \n",
    "        return 'B'\n",
    "    if tot_inc > 1000001:    \n",
    "        return 'A'\n",
    "    \n",
    "    \n",
    "    \n",
    "    "
   ]
  },
  {
   "cell_type": "code",
   "execution_count": 147,
   "id": "56b8d4af",
   "metadata": {
    "id": "d5f3586d"
   },
   "outputs": [],
   "source": [
    "data['total_income_category'] = data.apply(categorize_income, axis=1) \n",
    "\n",
    "#print(data.head(5))"
   ]
  },
  {
   "cell_type": "markdown",
   "id": "53360993",
   "metadata": {
    "deletable": false,
    "editable": false,
    "id": "dde49b5c",
    "tags": [
     "start_task"
    ]
   },
   "source": [
   
   ]
  },
  {
   "cell_type": "code",
   "execution_count": 148,
   "id": "ebd6e95f",
   "metadata": {
    "id": "f67ce9b3"
   },
   "outputs": [
    {
     "name": "stdout",
     "output_type": "stream",
     "text": [
      "['покупка жилья' 'приобретение автомобиля' 'дополнительное образование'\n",
      " 'сыграть свадьбу' 'операции с жильем' 'образование'\n",
      " 'на проведение свадьбы' 'покупка жилья для семьи' 'покупка недвижимости'\n",
      " 'покупка коммерческой недвижимости' 'покупка жилой недвижимости'\n",
      " 'строительство собственной недвижимости' 'недвижимость'\n",
      " 'строительство недвижимости' 'на покупку подержанного автомобиля'\n",
      " 'на покупку своего автомобиля' 'операции с коммерческой недвижимостью'\n",
      " 'строительство жилой недвижимости' 'жилье'\n",
      " 'операции со своей недвижимостью' 'автомобили' 'заняться образованием'\n",
      " 'сделка с подержанным автомобилем' 'получение образования' 'автомобиль'\n",
      " 'свадьба' 'получение дополнительного образования' 'покупка своего жилья'\n",
      " 'операции с недвижимостью' 'получение высшего образования'\n",
      " 'свой автомобиль' 'сделка с автомобилем' 'профильное образование'\n",
      " 'высшее образование' 'покупка жилья для сдачи' 'на покупку автомобиля'\n",
      " 'ремонт жилью' 'заняться высшим образованием']\n"
     ]
    }
   ],
   "source": [
    "print(data['purpose'].unique())"
   ]
  },
  {
   "cell_type": "markdown",
   "id": "e27529e7",
   "metadata": {
    "deletable": false,
    "editable": false,
    "id": "85d0aef0",
    "tags": [
     "start_task"
    ]
   },
   "source": [
    
    "\n",
    "- `'операции с автомобилем'`,\n",
    "- `'операции с недвижимостью'`,\n",
    "- `'проведение свадьбы'`,\n",
    "- `'получение образования'`.\n",
    "\n",
    "**Например, если в столбце `purpose` находится подстрока `'на покупку автомобиля'`, то в столбце `purpose_category` должна появиться строка `'операции с автомобилем'`.**\n",
    "\n",
    "**Используем собственную функцию с именем `categorize_purpose()` и метод `apply()`. Изучим данные в столбце `purpose` и определим, какие подстроки помогут правильно определить категорию.**"
   ]
  },
  {
   "cell_type": "code",
   "execution_count": 165,
   "id": "b8e75122",
   "metadata": {
    "id": "e149fab4"
   },
   "outputs": [],
   "source": [
    "def categorize_purpose(purpose): \n",
    "    \n",
    "       \n",
    "    if  'автомоб' in purpose:    \n",
    "        return 'операции с автомобилем'\n",
    "    elif 'недвиж' in purpose or 'квартир' in purpose or 'жил' in purpose:    \n",
    "        return 'операции с недвижимостью'\n",
    "    elif 'свадьб' in purpose:    \n",
    "        return 'проведение свадьбы'\n",
    "    elif 'образован' in purpose:    \n",
    "        return 'получение образования'"
   ]
  },
  {
   "cell_type": "code",
   "execution_count": 166,
   "id": "f42d3274",
   "metadata": {
    "id": "bf36e69b"
   },
   "outputs": [
    {
     "name": "stdout",
     "output_type": "stream",
     "text": [
      "   children  days_employed  dob_years education  education_id  \\\n",
      "0         1    8437.673028         42    высшее             0   \n",
      "1         1    4024.803754         36   среднее             1   \n",
      "2         0    5623.422610         33   среднее             1   \n",
      "3         3    4124.747207         32   среднее             1   \n",
      "4         0  340266.072047         53   среднее             1   \n",
      "\n",
      "      family_status  family_status_id gender income_type  debt  total_income  \\\n",
      "0   женат / замужем                 0      F   сотрудник     0        253875   \n",
      "1   женат / замужем                 0      F   сотрудник     0        112080   \n",
      "2   женат / замужем                 0      M   сотрудник     0        145885   \n",
      "3   женат / замужем                 0      M   сотрудник     0        267628   \n",
      "4  гражданский брак                 1      F   пенсионер     0        158616   \n",
      "\n",
      "                      purpose total_income_category          purpose_category  \n",
      "0               покупка жилья                     B  операции с недвижимостью  \n",
      "1     приобретение автомобиля                     C    операции с автомобилем  \n",
      "2               покупка жилья                     C  операции с недвижимостью  \n",
      "3  дополнительное образование                     B     получение образования  \n",
      "4             сыграть свадьбу                     C        проведение свадьбы  \n"
     ]
    }
   ],
   "source": [
    "data['purpose_category'] = data['purpose'].apply(categorize_purpose) \n",
    "\n",
    "print(data.head(5))"
   ]
  },
  {
   "cell_type": "code",
   "execution_count": null,
   "id": "657df6e7",
   "metadata": {},
   "outputs": [],
   "source": []
  }
 ],
 "metadata": {
  "ExecuteTimeLog": [
   {
    "duration": 372,
    "start_time": "2022-08-11T17:56:30.167Z"
   },
   {
    "duration": 58,
    "start_time": "2022-08-11T17:57:23.546Z"
   },
   {
    "duration": 69,
    "start_time": "2022-08-11T17:57:48.896Z"
   },
   {
    "duration": 2,
    "start_time": "2022-08-11T17:58:37.660Z"
   },
   {
    "duration": 7,
    "start_time": "2022-08-11T17:58:41.827Z"
   },
   {
    "duration": 135,
    "start_time": "2022-08-11T17:59:48.542Z"
   },
   {
    "duration": 9,
    "start_time": "2022-08-11T18:00:18.574Z"
   },
   {
    "duration": 13,
    "start_time": "2022-08-11T18:01:06.284Z"
   },
   {
    "duration": 3,
    "start_time": "2022-08-11T18:07:04.040Z"
   },
   {
    "duration": 64,
    "start_time": "2022-08-11T18:07:07.036Z"
   },
   {
    "duration": 7,
    "start_time": "2022-08-11T18:07:11.199Z"
   },
   {
    "duration": 12,
    "start_time": "2022-08-11T18:07:15.044Z"
   },
   {
    "duration": 9,
    "start_time": "2022-08-11T18:13:02.521Z"
   },
   {
    "duration": 42,
    "start_time": "2022-08-12T09:57:59.925Z"
   },
   {
    "duration": 411,
    "start_time": "2022-08-12T09:58:06.604Z"
   },
   {
    "duration": 781,
    "start_time": "2022-08-12T09:58:09.749Z"
   },
   {
    "duration": 8,
    "start_time": "2022-08-12T09:58:14.212Z"
   },
   {
    "duration": 14,
    "start_time": "2022-08-12T09:58:19.918Z"
   },
   {
    "duration": 8,
    "start_time": "2022-08-12T09:58:24.625Z"
   },
   {
    "duration": 6,
    "start_time": "2022-08-12T10:41:11.174Z"
   },
   {
    "duration": 4,
    "start_time": "2022-08-12T10:41:32.603Z"
   },
   {
    "duration": 2,
    "start_time": "2022-08-12T10:45:39.798Z"
   },
   {
    "duration": 66,
    "start_time": "2022-08-12T10:45:46.607Z"
   },
   {
    "duration": 8,
    "start_time": "2022-08-12T10:46:00.016Z"
   },
   {
    "duration": 13,
    "start_time": "2022-08-12T10:46:20.023Z"
   },
   {
    "duration": 9,
    "start_time": "2022-08-12T10:46:32.354Z"
   },
   {
    "duration": 8,
    "start_time": "2022-08-12T10:46:51.101Z"
   },
   {
    "duration": 10,
    "start_time": "2022-08-12T10:53:20.857Z"
   },
   {
    "duration": 33,
    "start_time": "2022-08-12T10:56:22.561Z"
   },
   {
    "duration": 31,
    "start_time": "2022-08-12T10:56:31.823Z"
   },
   {
    "duration": 3,
    "start_time": "2022-08-12T11:00:18.721Z"
   },
   {
    "duration": 32,
    "start_time": "2022-08-12T11:00:46.283Z"
   },
   {
    "duration": 26,
    "start_time": "2022-08-12T11:04:14.125Z"
   },
   {
    "duration": 3,
    "start_time": "2022-08-12T11:04:24.112Z"
   },
   {
    "duration": 6,
    "start_time": "2022-08-12T11:04:30.106Z"
   },
   {
    "duration": 7,
    "start_time": "2022-08-12T11:06:25.602Z"
   },
   {
    "duration": 3,
    "start_time": "2022-08-12T11:09:27.618Z"
   },
   {
    "duration": 6,
    "start_time": "2022-08-12T11:17:38.260Z"
   },
   {
    "duration": 5,
    "start_time": "2022-08-12T11:18:10.111Z"
   },
   {
    "duration": 6,
    "start_time": "2022-08-12T11:19:19.411Z"
   },
   {
    "duration": 5,
    "start_time": "2022-08-12T11:22:49.977Z"
   },
   {
    "duration": 4,
    "start_time": "2022-08-12T11:23:39.265Z"
   },
   {
    "duration": 5,
    "start_time": "2022-08-12T11:25:12.642Z"
   },
   {
    "duration": 4,
    "start_time": "2022-08-12T11:25:51.462Z"
   },
   {
    "duration": 34,
    "start_time": "2022-08-12T11:38:36.037Z"
   },
   {
    "duration": 4,
    "start_time": "2022-08-12T11:38:39.675Z"
   },
   {
    "duration": 6,
    "start_time": "2022-08-12T11:38:42.316Z"
   },
   {
    "duration": 3,
    "start_time": "2022-08-12T11:38:45.283Z"
   },
   {
    "duration": 5,
    "start_time": "2022-08-12T11:38:53.234Z"
   },
   {
    "duration": 4,
    "start_time": "2022-08-12T11:38:57.734Z"
   },
   {
    "duration": 61,
    "start_time": "2022-08-12T17:02:32.192Z"
   },
   {
    "duration": 54,
    "start_time": "2022-08-12T17:02:45.222Z"
   },
   {
    "duration": 15,
    "start_time": "2022-08-12T17:03:13.584Z"
   },
   {
    "duration": 412,
    "start_time": "2022-08-12T17:03:50.084Z"
   },
   {
    "duration": 3,
    "start_time": "2022-08-12T17:05:12.116Z"
   },
   {
    "duration": 1329,
    "start_time": "2022-08-12T17:07:58.943Z"
   },
   {
    "duration": 825,
    "start_time": "2022-08-12T17:08:47.298Z"
   },
   {
    "duration": 1414,
    "start_time": "2022-08-12T17:10:00.988Z"
   },
   {
    "duration": 881,
    "start_time": "2022-08-12T17:11:08.614Z"
   },
   {
    "duration": 557,
    "start_time": "2022-08-12T17:13:38.109Z"
   },
   {
    "duration": 2,
    "start_time": "2022-08-12T17:13:57.561Z"
   },
   {
    "duration": 66,
    "start_time": "2022-08-12T17:14:09.406Z"
   },
   {
    "duration": 8,
    "start_time": "2022-08-12T17:14:12.081Z"
   },
   {
    "duration": 13,
    "start_time": "2022-08-12T17:14:18.044Z"
   },
   {
    "duration": 8,
    "start_time": "2022-08-12T17:14:22.754Z"
   },
   {
    "duration": 31,
    "start_time": "2022-08-12T17:14:27.929Z"
   },
   {
    "duration": 3,
    "start_time": "2022-08-12T17:14:40.915Z"
   },
   {
    "duration": 7,
    "start_time": "2022-08-12T17:14:44.922Z"
   },
   {
    "duration": 6,
    "start_time": "2022-08-12T17:14:53.624Z"
   },
   {
    "duration": 4,
    "start_time": "2022-08-12T17:15:12.453Z"
   },
   {
    "duration": 3,
    "start_time": "2022-08-12T17:15:18.547Z"
   },
   {
    "duration": 16,
    "start_time": "2022-08-12T17:15:53.688Z"
   },
   {
    "duration": 9,
    "start_time": "2022-08-12T17:16:45.653Z"
   },
   {
    "duration": 3,
    "start_time": "2022-08-12T17:17:08.492Z"
   },
   {
    "duration": 9,
    "start_time": "2022-08-12T17:17:24.482Z"
   },
   {
    "duration": 8,
    "start_time": "2022-08-12T17:22:09.602Z"
   },
   {
    "duration": 43,
    "start_time": "2022-08-13T07:43:48.850Z"
   },
   {
    "duration": 5,
    "start_time": "2022-08-13T07:44:00.722Z"
   },
   {
    "duration": 391,
    "start_time": "2022-08-13T07:44:36.046Z"
   },
   {
    "duration": 128,
    "start_time": "2022-08-13T07:44:37.860Z"
   },
   {
    "duration": 14,
    "start_time": "2022-08-13T07:44:44.405Z"
   },
   {
    "duration": 8,
    "start_time": "2022-08-13T07:44:53.447Z"
   },
   {
    "duration": 42,
    "start_time": "2022-08-13T07:44:57.275Z"
   },
   {
    "duration": 3,
    "start_time": "2022-08-13T07:45:03.479Z"
   },
   {
    "duration": 7,
    "start_time": "2022-08-13T07:45:07.636Z"
   },
   {
    "duration": 3,
    "start_time": "2022-08-13T07:45:12.323Z"
   },
   {
    "duration": 5,
    "start_time": "2022-08-13T07:45:15.618Z"
   },
   {
    "duration": 26,
    "start_time": "2022-08-13T07:50:29.218Z"
   },
   {
    "duration": 8,
    "start_time": "2022-08-13T07:51:32.583Z"
   },
   {
    "duration": 9,
    "start_time": "2022-08-13T07:53:44.847Z"
   },
   {
    "duration": 8,
    "start_time": "2022-08-13T07:57:48.564Z"
   },
   {
    "duration": 8,
    "start_time": "2022-08-13T07:57:58.650Z"
   },
   {
    "duration": 10,
    "start_time": "2022-08-13T08:01:56.510Z"
   },
   {
    "duration": 98,
    "start_time": "2022-08-13T08:05:30.268Z"
   },
   {
    "duration": 8,
    "start_time": "2022-08-13T08:05:44.528Z"
   },
   {
    "duration": 10,
    "start_time": "2022-08-13T08:06:22.081Z"
   },
   {
    "duration": 8,
    "start_time": "2022-08-13T08:16:24.325Z"
   },
   {
    "duration": 8,
    "start_time": "2022-08-13T08:16:36.523Z"
   },
   {
    "duration": 7,
    "start_time": "2022-08-13T08:18:19.661Z"
   },
   {
    "duration": 8,
    "start_time": "2022-08-13T08:19:00.102Z"
   },
   {
    "duration": 2,
    "start_time": "2022-08-13T08:33:20.923Z"
   },
   {
    "duration": 67,
    "start_time": "2022-08-13T08:33:23.864Z"
   },
   {
    "duration": 9,
    "start_time": "2022-08-13T08:33:27.910Z"
   },
   {
    "duration": 14,
    "start_time": "2022-08-13T08:33:32.832Z"
   },
   {
    "duration": 11,
    "start_time": "2022-08-13T08:33:37.264Z"
   },
   {
    "duration": 32,
    "start_time": "2022-08-13T08:33:42.000Z"
   },
   {
    "duration": 4,
    "start_time": "2022-08-13T08:33:45.987Z"
   },
   {
    "duration": 6,
    "start_time": "2022-08-13T08:33:50.466Z"
   },
   {
    "duration": 4,
    "start_time": "2022-08-13T08:33:54.410Z"
   },
   {
    "duration": 9,
    "start_time": "2022-08-13T08:33:57.436Z"
   },
   {
    "duration": 2,
    "start_time": "2022-08-13T08:34:19.365Z"
   },
   {
    "duration": 64,
    "start_time": "2022-08-13T08:34:21.713Z"
   },
   {
    "duration": 9,
    "start_time": "2022-08-13T08:34:24.448Z"
   },
   {
    "duration": 2,
    "start_time": "2022-08-13T08:34:33.502Z"
   },
   {
    "duration": 64,
    "start_time": "2022-08-13T08:34:35.200Z"
   },
   {
    "duration": 9,
    "start_time": "2022-08-13T08:34:37.305Z"
   },
   {
    "duration": 14,
    "start_time": "2022-08-13T08:34:50.148Z"
   },
   {
    "duration": 8,
    "start_time": "2022-08-13T08:34:54.734Z"
   },
   {
    "duration": 33,
    "start_time": "2022-08-13T08:34:58.583Z"
   },
   {
    "duration": 4,
    "start_time": "2022-08-13T08:35:02.026Z"
   },
   {
    "duration": 8,
    "start_time": "2022-08-13T08:35:07.299Z"
   },
   {
    "duration": 5,
    "start_time": "2022-08-13T08:35:10.276Z"
   },
   {
    "duration": 5,
    "start_time": "2022-08-13T08:35:13.108Z"
   },
   {
    "duration": 4,
    "start_time": "2022-08-13T08:38:08.034Z"
   },
   {
    "duration": 31,
    "start_time": "2022-08-13T08:38:42.619Z"
   },
   {
    "duration": 9,
    "start_time": "2022-08-13T08:39:50.575Z"
   },
   {
    "duration": 4,
    "start_time": "2022-08-13T08:44:08.342Z"
   },
   {
    "duration": 8,
    "start_time": "2022-08-13T08:47:46.269Z"
   },
   {
    "duration": 4,
    "start_time": "2022-08-13T08:48:08.556Z"
   },
   {
    "duration": 11,
    "start_time": "2022-08-13T08:49:01.143Z"
   },
   {
    "duration": 10,
    "start_time": "2022-08-13T08:51:34.043Z"
   },
   {
    "duration": 15,
    "start_time": "2022-08-13T08:52:39.826Z"
   },
   {
    "duration": 21,
    "start_time": "2022-08-13T08:53:54.042Z"
   },
   {
    "duration": 19,
    "start_time": "2022-08-13T08:57:07.294Z"
   },
   {
    "duration": 24,
    "start_time": "2022-08-13T09:11:52.454Z"
   },
   {
    "duration": 37,
    "start_time": "2022-08-13T09:33:30.472Z"
   },
   {
    "duration": 29,
    "start_time": "2022-08-13T09:33:40.767Z"
   },
   {
    "duration": 16,
    "start_time": "2022-08-13T09:34:24.882Z"
   },
   {
    "duration": 15,
    "start_time": "2022-08-13T09:34:49.834Z"
   },
   {
    "duration": 15,
    "start_time": "2022-08-13T09:34:56.965Z"
   },
   {
    "duration": 2,
    "start_time": "2022-08-13T09:35:10.958Z"
   },
   {
    "duration": 65,
    "start_time": "2022-08-13T09:35:13.022Z"
   },
   {
    "duration": 7,
    "start_time": "2022-08-13T09:35:15.152Z"
   },
   {
    "duration": 12,
    "start_time": "2022-08-13T09:35:21.353Z"
   },
   {
    "duration": 12,
    "start_time": "2022-08-13T09:35:27.046Z"
   },
   {
    "duration": 8,
    "start_time": "2022-08-13T09:35:30.781Z"
   },
   {
    "duration": 33,
    "start_time": "2022-08-13T09:35:35.588Z"
   },
   {
    "duration": 4,
    "start_time": "2022-08-13T09:35:38.913Z"
   },
   {
    "duration": 7,
    "start_time": "2022-08-13T09:35:41.744Z"
   },
   {
    "duration": 3,
    "start_time": "2022-08-13T09:35:45.416Z"
   },
   {
    "duration": 6,
    "start_time": "2022-08-13T09:35:49.868Z"
   },
   {
    "duration": 4,
    "start_time": "2022-08-13T09:35:52.903Z"
   },
   {
    "duration": 34,
    "start_time": "2022-08-13T09:35:55.829Z"
   },
   {
    "duration": 7,
    "start_time": "2022-08-13T09:35:59.231Z"
   },
   {
    "duration": 4,
    "start_time": "2022-08-13T09:36:05.689Z"
   },
   {
    "duration": 20,
    "start_time": "2022-08-13T09:36:09.638Z"
   },
   {
    "duration": 17,
    "start_time": "2022-08-13T09:36:15.747Z"
   },
   {
    "duration": 15,
    "start_time": "2022-08-13T09:36:36.144Z"
   },
   {
    "duration": 18,
    "start_time": "2022-08-13T09:36:46.362Z"
   },
   {
    "duration": 3,
    "start_time": "2022-08-13T11:40:10.030Z"
   },
   {
    "duration": 117,
    "start_time": "2022-08-13T11:42:05.075Z"
   },
   {
    "duration": 134,
    "start_time": "2022-08-13T11:42:13.994Z"
   },
   {
    "duration": 124,
    "start_time": "2022-08-13T11:42:31.573Z"
   },
   {
    "duration": 4,
    "start_time": "2022-08-13T11:43:51.124Z"
   },
   {
    "duration": 10,
    "start_time": "2022-08-13T11:59:13.288Z"
   },
   {
    "duration": 13,
    "start_time": "2022-08-13T11:59:32.751Z"
   },
   {
    "duration": 15,
    "start_time": "2022-08-13T11:59:34.736Z"
   },
   {
    "duration": 4,
    "start_time": "2022-08-13T12:04:13.371Z"
   },
   {
    "duration": 19,
    "start_time": "2022-08-13T12:04:21.094Z"
   },
   {
    "duration": 75,
    "start_time": "2022-08-13T12:09:23.617Z"
   },
   {
    "duration": 170,
    "start_time": "2022-08-13T12:10:02.782Z"
   },
   {
    "duration": 3,
    "start_time": "2022-08-13T12:10:19.944Z"
   },
   {
    "duration": 18,
    "start_time": "2022-08-13T12:10:23.887Z"
   },
   {
    "duration": 2,
    "start_time": "2022-08-13T12:13:37.012Z"
   },
   {
    "duration": 67,
    "start_time": "2022-08-13T12:13:39.817Z"
   },
   {
    "duration": 10,
    "start_time": "2022-08-13T12:13:43.326Z"
   },
   {
    "duration": 13,
    "start_time": "2022-08-13T12:13:51.243Z"
   },
   {
    "duration": 8,
    "start_time": "2022-08-13T12:13:56.873Z"
   },
   {
    "duration": 38,
    "start_time": "2022-08-13T12:14:01.116Z"
   },
   {
    "duration": 3,
    "start_time": "2022-08-13T12:14:04.894Z"
   },
   {
    "duration": 6,
    "start_time": "2022-08-13T12:14:08.551Z"
   },
   {
    "duration": 4,
    "start_time": "2022-08-13T12:14:12.930Z"
   },
   {
    "duration": 5,
    "start_time": "2022-08-13T12:14:16.248Z"
   },
   {
    "duration": 4,
    "start_time": "2022-08-13T12:14:19.639Z"
   },
   {
    "duration": 32,
    "start_time": "2022-08-13T12:14:23.380Z"
   },
   {
    "duration": 10,
    "start_time": "2022-08-13T12:14:26.779Z"
   },
   {
    "duration": 4,
    "start_time": "2022-08-13T12:14:30.310Z"
   },
   {
    "duration": 3,
    "start_time": "2022-08-13T12:14:34.717Z"
   },
   {
    "duration": 21,
    "start_time": "2022-08-13T12:14:37.859Z"
   },
   {
    "duration": 14,
    "start_time": "2022-08-13T12:14:44.811Z"
   },
   {
    "duration": 16,
    "start_time": "2022-08-13T12:14:47.727Z"
   },
   {
    "duration": 3,
    "start_time": "2022-08-13T12:14:52.345Z"
   },
   {
    "duration": 118,
    "start_time": "2022-08-13T12:14:56.832Z"
   },
   {
    "duration": 118,
    "start_time": "2022-08-13T12:15:01.777Z"
   },
   {
    "duration": 5,
    "start_time": "2022-08-13T12:15:06.440Z"
   },
   {
    "duration": 3,
    "start_time": "2022-08-13T12:15:10.383Z"
   },
   {
    "duration": 15,
    "start_time": "2022-08-13T12:15:13.497Z"
   },
   {
    "duration": 3,
    "start_time": "2022-08-13T13:45:44.536Z"
   },
   {
    "duration": 86,
    "start_time": "2022-08-13T13:45:54.485Z"
   },
   {
    "duration": 86,
    "start_time": "2022-08-13T13:48:18.907Z"
   },
   {
    "duration": 2,
    "start_time": "2022-08-13T13:50:34.344Z"
   },
   {
    "duration": 3,
    "start_time": "2022-08-13T13:51:32.872Z"
   },
   {
    "duration": 86,
    "start_time": "2022-08-13T13:51:43.902Z"
   },
   {
    "duration": 3,
    "start_time": "2022-08-13T14:06:18.894Z"
   },
   {
    "duration": 70,
    "start_time": "2022-08-13T14:06:21.052Z"
   },
   {
    "duration": 8,
    "start_time": "2022-08-13T14:06:23.209Z"
   },
   {
    "duration": 17,
    "start_time": "2022-08-13T14:06:32.296Z"
   },
   {
    "duration": 12,
    "start_time": "2022-08-13T14:06:37.787Z"
   },
   {
    "duration": 37,
    "start_time": "2022-08-13T14:06:42.638Z"
   },
   {
    "duration": 4,
    "start_time": "2022-08-13T14:06:48.838Z"
   },
   {
    "duration": 7,
    "start_time": "2022-08-13T14:06:51.606Z"
   },
   {
    "duration": 3,
    "start_time": "2022-08-13T14:07:05.570Z"
   },
   {
    "duration": 8,
    "start_time": "2022-08-13T14:07:08.563Z"
   },
   {
    "duration": 5,
    "start_time": "2022-08-13T14:07:14.036Z"
   },
   {
    "duration": 51,
    "start_time": "2022-08-13T14:07:17.034Z"
   },
   {
    "duration": 11,
    "start_time": "2022-08-13T14:07:22.186Z"
   },
   {
    "duration": 4,
    "start_time": "2022-08-13T14:07:29.042Z"
   },
   {
    "duration": 24,
    "start_time": "2022-08-13T14:07:32.538Z"
   },
   {
    "duration": 16,
    "start_time": "2022-08-13T14:07:37.085Z"
   },
   {
    "duration": 17,
    "start_time": "2022-08-13T14:07:39.937Z"
   },
   {
    "duration": 4,
    "start_time": "2022-08-13T14:07:42.844Z"
   },
   {
    "duration": 181,
    "start_time": "2022-08-13T14:07:46.739Z"
   },
   {
    "duration": 5,
    "start_time": "2022-08-13T14:07:49.547Z"
   },
   {
    "duration": 4,
    "start_time": "2022-08-13T14:07:54.238Z"
   },
   {
    "duration": 90,
    "start_time": "2022-08-13T14:07:59.236Z"
   },
   {
    "duration": 353,
    "start_time": "2022-08-13T15:03:59.747Z"
   },
   {
    "duration": 11,
    "start_time": "2022-08-13T15:04:18.237Z"
   },
   {
    "duration": 3,
    "start_time": "2022-08-13T15:05:50.470Z"
   },
   {
    "duration": 3,
    "start_time": "2022-08-13T15:05:58.162Z"
   },
   {
    "duration": 3,
    "start_time": "2022-08-13T15:07:38.757Z"
   },
   {
    "duration": 291,
    "start_time": "2022-08-13T15:09:40.603Z"
   },
   {
    "duration": 11,
    "start_time": "2022-08-13T15:22:58.813Z"
   },
   {
    "duration": 3,
    "start_time": "2022-08-13T15:24:11.243Z"
   },
   {
    "duration": 3,
    "start_time": "2022-08-13T15:24:40.526Z"
   },
   {
    "duration": 13,
    "start_time": "2022-08-13T15:25:12.563Z"
   },
   {
    "duration": 11,
    "start_time": "2022-08-13T15:25:37.638Z"
   },
   {
    "duration": 3,
    "start_time": "2022-08-13T15:58:48.344Z"
   },
   {
    "duration": 12,
    "start_time": "2022-08-13T15:58:52.213Z"
   },
   {
    "duration": 3,
    "start_time": "2022-08-13T18:21:00.952Z"
   },
   {
    "duration": 3,
    "start_time": "2022-08-13T18:24:29.462Z"
   },
   {
    "duration": 15,
    "start_time": "2022-08-13T18:24:32.845Z"
   }
  ],
  "colab": {
   "name": "dpp_template_part1.ipynb",
   "provenance": []
  },
  "kernelspec": {
   "display_name": "Python 3 (ipykernel)",
   "language": "python",
   "name": "python3"
  },
  "language_info": {
   "codemirror_mode": {
    "name": "ipython",
    "version": 3
   },
   "file_extension": ".py",
   "mimetype": "text/x-python",
   "name": "python",
   "nbconvert_exporter": "python",
   "pygments_lexer": "ipython3",
   "version": "3.9.5"
  },
  "toc": {
   "base_numbering": 1,
   "nav_menu": {},
   "number_sections": true,
   "sideBar": true,
   "skip_h1_title": true,
   "title_cell": "Table of Contents",
   "title_sidebar": "Contents",
   "toc_cell": false,
   "toc_position": {},
   "toc_section_display": true,
   "toc_window_display": false
  }
 },
 "nbformat": 4,
 "nbformat_minor": 5
}
