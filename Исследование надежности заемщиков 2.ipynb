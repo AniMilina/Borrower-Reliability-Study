{
 "cells": [
  {
   "cell_type": "markdown",
   "id": "f7d4456f",
   "metadata": {
    "deletable": false,
    "editable": false,
    "id": "c81daeeb"
   },
   "source": [
    "# Исследование надежности заемщиков\n"
   ]
  },
  {
   "cell_type": "markdown",
   "id": "5bb1c7a8",
   "metadata": {
    "deletable": false,
    "editable": false,
    "id": "827c20bf"
   },
   "source": [
    "Во второй части проекта вы выполните шаги 3 и 4. Их вручную проверит ревьюер.\n",
    "Чтобы вам не пришлось писать код заново для шагов 1 и 2, мы добавили авторские решения в ячейки с кодом. \n",
    "\n"
   ]
  },
  {
   "cell_type": "markdown",
   "id": "c3d2f16f",
   "metadata": {
    "deletable": false,
    "editable": false,
    "id": "744d7639"
   },
   "source": [
    "## Откройте таблицу и изучите общую информацию о данных"
   ]
  },
  {
   "cell_type": "markdown",
   "id": "75c5e278",
   "metadata": {
    "deletable": false,
    "editable": false,
    "id": "e7a14c31"
   },
   "source": [
    "**Задание 1. Импортируйте библиотеку pandas. Считайте данные из csv-файла в датафрейм и сохраните в переменную `data`. Путь к файлу:**\n",
    "\n",
    "`/datasets/data.csv`"
   ]
  },
  {
   "cell_type": "code",
   "execution_count": 2,
   "id": "bc783305",
   "metadata": {
    "deletable": false,
    "id": "7bcf75c9"
   },
   "outputs": [],
   "source": [
    "import pandas as pd\n",
    "\n",
    "try:\n",
    "    data = pd.read_csv('/datasets/data.csv')\n",
    "except:\n",
    "    data = pd.read_csv('https://code.s3.yandex.net/datasets/data.csv')"
   ]
  },
  {
   "cell_type": "markdown",
   "id": "8e7894ae",
   "metadata": {
    "deletable": false,
    "editable": false,
    "id": "b8038fe3"
   },
   "source": [
    "**Задание 2. Выведите первые 20 строчек датафрейма `data` на экран.**"
   ]
  },
  {
   "cell_type": "code",
   "execution_count": 3,
   "id": "aa94c535",
   "metadata": {
    "deletable": false,
    "id": "2a7cab99",
    "outputId": "1a8f3ef2-d323-4ec2-ddf7-89670b5944c4"
   },
   "outputs": [
    {
     "data": {
      "text/html": [
       "<div>\n",
       "<style scoped>\n",
       "    .dataframe tbody tr th:only-of-type {\n",
       "        vertical-align: middle;\n",
       "    }\n",
       "\n",
       "    .dataframe tbody tr th {\n",
       "        vertical-align: top;\n",
       "    }\n",
       "\n",
       "    .dataframe thead th {\n",
       "        text-align: right;\n",
       "    }\n",
       "</style>\n",
       "<table border=\"1\" class=\"dataframe\">\n",
       "  <thead>\n",
       "    <tr style=\"text-align: right;\">\n",
       "      <th></th>\n",
       "      <th>children</th>\n",
       "      <th>days_employed</th>\n",
       "      <th>dob_years</th>\n",
       "      <th>education</th>\n",
       "      <th>education_id</th>\n",
       "      <th>family_status</th>\n",
       "      <th>family_status_id</th>\n",
       "      <th>gender</th>\n",
       "      <th>income_type</th>\n",
       "      <th>debt</th>\n",
       "      <th>total_income</th>\n",
       "      <th>purpose</th>\n",
       "    </tr>\n",
       "  </thead>\n",
       "  <tbody>\n",
       "    <tr>\n",
       "      <th>0</th>\n",
       "      <td>1</td>\n",
       "      <td>-8437.673028</td>\n",
       "      <td>42</td>\n",
       "      <td>высшее</td>\n",
       "      <td>0</td>\n",
       "      <td>женат / замужем</td>\n",
       "      <td>0</td>\n",
       "      <td>F</td>\n",
       "      <td>сотрудник</td>\n",
       "      <td>0</td>\n",
       "      <td>253875.639453</td>\n",
       "      <td>покупка жилья</td>\n",
       "    </tr>\n",
       "    <tr>\n",
       "      <th>1</th>\n",
       "      <td>1</td>\n",
       "      <td>-4024.803754</td>\n",
       "      <td>36</td>\n",
       "      <td>среднее</td>\n",
       "      <td>1</td>\n",
       "      <td>женат / замужем</td>\n",
       "      <td>0</td>\n",
       "      <td>F</td>\n",
       "      <td>сотрудник</td>\n",
       "      <td>0</td>\n",
       "      <td>112080.014102</td>\n",
       "      <td>приобретение автомобиля</td>\n",
       "    </tr>\n",
       "    <tr>\n",
       "      <th>2</th>\n",
       "      <td>0</td>\n",
       "      <td>-5623.422610</td>\n",
       "      <td>33</td>\n",
       "      <td>Среднее</td>\n",
       "      <td>1</td>\n",
       "      <td>женат / замужем</td>\n",
       "      <td>0</td>\n",
       "      <td>M</td>\n",
       "      <td>сотрудник</td>\n",
       "      <td>0</td>\n",
       "      <td>145885.952297</td>\n",
       "      <td>покупка жилья</td>\n",
       "    </tr>\n",
       "    <tr>\n",
       "      <th>3</th>\n",
       "      <td>3</td>\n",
       "      <td>-4124.747207</td>\n",
       "      <td>32</td>\n",
       "      <td>среднее</td>\n",
       "      <td>1</td>\n",
       "      <td>женат / замужем</td>\n",
       "      <td>0</td>\n",
       "      <td>M</td>\n",
       "      <td>сотрудник</td>\n",
       "      <td>0</td>\n",
       "      <td>267628.550329</td>\n",
       "      <td>дополнительное образование</td>\n",
       "    </tr>\n",
       "    <tr>\n",
       "      <th>4</th>\n",
       "      <td>0</td>\n",
       "      <td>340266.072047</td>\n",
       "      <td>53</td>\n",
       "      <td>среднее</td>\n",
       "      <td>1</td>\n",
       "      <td>гражданский брак</td>\n",
       "      <td>1</td>\n",
       "      <td>F</td>\n",
       "      <td>пенсионер</td>\n",
       "      <td>0</td>\n",
       "      <td>158616.077870</td>\n",
       "      <td>сыграть свадьбу</td>\n",
       "    </tr>\n",
       "    <tr>\n",
       "      <th>5</th>\n",
       "      <td>0</td>\n",
       "      <td>-926.185831</td>\n",
       "      <td>27</td>\n",
       "      <td>высшее</td>\n",
       "      <td>0</td>\n",
       "      <td>гражданский брак</td>\n",
       "      <td>1</td>\n",
       "      <td>M</td>\n",
       "      <td>компаньон</td>\n",
       "      <td>0</td>\n",
       "      <td>255763.565419</td>\n",
       "      <td>покупка жилья</td>\n",
       "    </tr>\n",
       "    <tr>\n",
       "      <th>6</th>\n",
       "      <td>0</td>\n",
       "      <td>-2879.202052</td>\n",
       "      <td>43</td>\n",
       "      <td>высшее</td>\n",
       "      <td>0</td>\n",
       "      <td>женат / замужем</td>\n",
       "      <td>0</td>\n",
       "      <td>F</td>\n",
       "      <td>компаньон</td>\n",
       "      <td>0</td>\n",
       "      <td>240525.971920</td>\n",
       "      <td>операции с жильем</td>\n",
       "    </tr>\n",
       "    <tr>\n",
       "      <th>7</th>\n",
       "      <td>0</td>\n",
       "      <td>-152.779569</td>\n",
       "      <td>50</td>\n",
       "      <td>СРЕДНЕЕ</td>\n",
       "      <td>1</td>\n",
       "      <td>женат / замужем</td>\n",
       "      <td>0</td>\n",
       "      <td>M</td>\n",
       "      <td>сотрудник</td>\n",
       "      <td>0</td>\n",
       "      <td>135823.934197</td>\n",
       "      <td>образование</td>\n",
       "    </tr>\n",
       "    <tr>\n",
       "      <th>8</th>\n",
       "      <td>2</td>\n",
       "      <td>-6929.865299</td>\n",
       "      <td>35</td>\n",
       "      <td>ВЫСШЕЕ</td>\n",
       "      <td>0</td>\n",
       "      <td>гражданский брак</td>\n",
       "      <td>1</td>\n",
       "      <td>F</td>\n",
       "      <td>сотрудник</td>\n",
       "      <td>0</td>\n",
       "      <td>95856.832424</td>\n",
       "      <td>на проведение свадьбы</td>\n",
       "    </tr>\n",
       "    <tr>\n",
       "      <th>9</th>\n",
       "      <td>0</td>\n",
       "      <td>-2188.756445</td>\n",
       "      <td>41</td>\n",
       "      <td>среднее</td>\n",
       "      <td>1</td>\n",
       "      <td>женат / замужем</td>\n",
       "      <td>0</td>\n",
       "      <td>M</td>\n",
       "      <td>сотрудник</td>\n",
       "      <td>0</td>\n",
       "      <td>144425.938277</td>\n",
       "      <td>покупка жилья для семьи</td>\n",
       "    </tr>\n",
       "    <tr>\n",
       "      <th>10</th>\n",
       "      <td>2</td>\n",
       "      <td>-4171.483647</td>\n",
       "      <td>36</td>\n",
       "      <td>высшее</td>\n",
       "      <td>0</td>\n",
       "      <td>женат / замужем</td>\n",
       "      <td>0</td>\n",
       "      <td>M</td>\n",
       "      <td>компаньон</td>\n",
       "      <td>0</td>\n",
       "      <td>113943.491460</td>\n",
       "      <td>покупка недвижимости</td>\n",
       "    </tr>\n",
       "    <tr>\n",
       "      <th>11</th>\n",
       "      <td>0</td>\n",
       "      <td>-792.701887</td>\n",
       "      <td>40</td>\n",
       "      <td>среднее</td>\n",
       "      <td>1</td>\n",
       "      <td>женат / замужем</td>\n",
       "      <td>0</td>\n",
       "      <td>F</td>\n",
       "      <td>сотрудник</td>\n",
       "      <td>0</td>\n",
       "      <td>77069.234271</td>\n",
       "      <td>покупка коммерческой недвижимости</td>\n",
       "    </tr>\n",
       "    <tr>\n",
       "      <th>12</th>\n",
       "      <td>0</td>\n",
       "      <td>NaN</td>\n",
       "      <td>65</td>\n",
       "      <td>среднее</td>\n",
       "      <td>1</td>\n",
       "      <td>гражданский брак</td>\n",
       "      <td>1</td>\n",
       "      <td>M</td>\n",
       "      <td>пенсионер</td>\n",
       "      <td>0</td>\n",
       "      <td>NaN</td>\n",
       "      <td>сыграть свадьбу</td>\n",
       "    </tr>\n",
       "    <tr>\n",
       "      <th>13</th>\n",
       "      <td>0</td>\n",
       "      <td>-1846.641941</td>\n",
       "      <td>54</td>\n",
       "      <td>неоконченное высшее</td>\n",
       "      <td>2</td>\n",
       "      <td>женат / замужем</td>\n",
       "      <td>0</td>\n",
       "      <td>F</td>\n",
       "      <td>сотрудник</td>\n",
       "      <td>0</td>\n",
       "      <td>130458.228857</td>\n",
       "      <td>приобретение автомобиля</td>\n",
       "    </tr>\n",
       "    <tr>\n",
       "      <th>14</th>\n",
       "      <td>0</td>\n",
       "      <td>-1844.956182</td>\n",
       "      <td>56</td>\n",
       "      <td>высшее</td>\n",
       "      <td>0</td>\n",
       "      <td>гражданский брак</td>\n",
       "      <td>1</td>\n",
       "      <td>F</td>\n",
       "      <td>компаньон</td>\n",
       "      <td>1</td>\n",
       "      <td>165127.911772</td>\n",
       "      <td>покупка жилой недвижимости</td>\n",
       "    </tr>\n",
       "    <tr>\n",
       "      <th>15</th>\n",
       "      <td>1</td>\n",
       "      <td>-972.364419</td>\n",
       "      <td>26</td>\n",
       "      <td>среднее</td>\n",
       "      <td>1</td>\n",
       "      <td>женат / замужем</td>\n",
       "      <td>0</td>\n",
       "      <td>F</td>\n",
       "      <td>сотрудник</td>\n",
       "      <td>0</td>\n",
       "      <td>116820.904450</td>\n",
       "      <td>строительство собственной недвижимости</td>\n",
       "    </tr>\n",
       "    <tr>\n",
       "      <th>16</th>\n",
       "      <td>0</td>\n",
       "      <td>-1719.934226</td>\n",
       "      <td>35</td>\n",
       "      <td>среднее</td>\n",
       "      <td>1</td>\n",
       "      <td>женат / замужем</td>\n",
       "      <td>0</td>\n",
       "      <td>F</td>\n",
       "      <td>сотрудник</td>\n",
       "      <td>0</td>\n",
       "      <td>289202.704229</td>\n",
       "      <td>недвижимость</td>\n",
       "    </tr>\n",
       "    <tr>\n",
       "      <th>17</th>\n",
       "      <td>0</td>\n",
       "      <td>-2369.999720</td>\n",
       "      <td>33</td>\n",
       "      <td>высшее</td>\n",
       "      <td>0</td>\n",
       "      <td>гражданский брак</td>\n",
       "      <td>1</td>\n",
       "      <td>M</td>\n",
       "      <td>сотрудник</td>\n",
       "      <td>0</td>\n",
       "      <td>90410.586745</td>\n",
       "      <td>строительство недвижимости</td>\n",
       "    </tr>\n",
       "    <tr>\n",
       "      <th>18</th>\n",
       "      <td>0</td>\n",
       "      <td>400281.136913</td>\n",
       "      <td>53</td>\n",
       "      <td>среднее</td>\n",
       "      <td>1</td>\n",
       "      <td>вдовец / вдова</td>\n",
       "      <td>2</td>\n",
       "      <td>F</td>\n",
       "      <td>пенсионер</td>\n",
       "      <td>0</td>\n",
       "      <td>56823.777243</td>\n",
       "      <td>на покупку подержанного автомобиля</td>\n",
       "    </tr>\n",
       "    <tr>\n",
       "      <th>19</th>\n",
       "      <td>0</td>\n",
       "      <td>-10038.818549</td>\n",
       "      <td>48</td>\n",
       "      <td>СРЕДНЕЕ</td>\n",
       "      <td>1</td>\n",
       "      <td>в разводе</td>\n",
       "      <td>3</td>\n",
       "      <td>F</td>\n",
       "      <td>сотрудник</td>\n",
       "      <td>0</td>\n",
       "      <td>242831.107982</td>\n",
       "      <td>на покупку своего автомобиля</td>\n",
       "    </tr>\n",
       "  </tbody>\n",
       "</table>\n",
       "</div>"
      ],
      "text/plain": [
       "    children  days_employed  dob_years            education  education_id  \\\n",
       "0          1   -8437.673028         42               высшее             0   \n",
       "1          1   -4024.803754         36              среднее             1   \n",
       "2          0   -5623.422610         33              Среднее             1   \n",
       "3          3   -4124.747207         32              среднее             1   \n",
       "4          0  340266.072047         53              среднее             1   \n",
       "5          0    -926.185831         27               высшее             0   \n",
       "6          0   -2879.202052         43               высшее             0   \n",
       "7          0    -152.779569         50              СРЕДНЕЕ             1   \n",
       "8          2   -6929.865299         35               ВЫСШЕЕ             0   \n",
       "9          0   -2188.756445         41              среднее             1   \n",
       "10         2   -4171.483647         36               высшее             0   \n",
       "11         0    -792.701887         40              среднее             1   \n",
       "12         0            NaN         65              среднее             1   \n",
       "13         0   -1846.641941         54  неоконченное высшее             2   \n",
       "14         0   -1844.956182         56               высшее             0   \n",
       "15         1    -972.364419         26              среднее             1   \n",
       "16         0   -1719.934226         35              среднее             1   \n",
       "17         0   -2369.999720         33               высшее             0   \n",
       "18         0  400281.136913         53              среднее             1   \n",
       "19         0  -10038.818549         48              СРЕДНЕЕ             1   \n",
       "\n",
       "       family_status  family_status_id gender income_type  debt  \\\n",
       "0    женат / замужем                 0      F   сотрудник     0   \n",
       "1    женат / замужем                 0      F   сотрудник     0   \n",
       "2    женат / замужем                 0      M   сотрудник     0   \n",
       "3    женат / замужем                 0      M   сотрудник     0   \n",
       "4   гражданский брак                 1      F   пенсионер     0   \n",
       "5   гражданский брак                 1      M   компаньон     0   \n",
       "6    женат / замужем                 0      F   компаньон     0   \n",
       "7    женат / замужем                 0      M   сотрудник     0   \n",
       "8   гражданский брак                 1      F   сотрудник     0   \n",
       "9    женат / замужем                 0      M   сотрудник     0   \n",
       "10   женат / замужем                 0      M   компаньон     0   \n",
       "11   женат / замужем                 0      F   сотрудник     0   \n",
       "12  гражданский брак                 1      M   пенсионер     0   \n",
       "13   женат / замужем                 0      F   сотрудник     0   \n",
       "14  гражданский брак                 1      F   компаньон     1   \n",
       "15   женат / замужем                 0      F   сотрудник     0   \n",
       "16   женат / замужем                 0      F   сотрудник     0   \n",
       "17  гражданский брак                 1      M   сотрудник     0   \n",
       "18    вдовец / вдова                 2      F   пенсионер     0   \n",
       "19         в разводе                 3      F   сотрудник     0   \n",
       "\n",
       "     total_income                                 purpose  \n",
       "0   253875.639453                           покупка жилья  \n",
       "1   112080.014102                 приобретение автомобиля  \n",
       "2   145885.952297                           покупка жилья  \n",
       "3   267628.550329              дополнительное образование  \n",
       "4   158616.077870                         сыграть свадьбу  \n",
       "5   255763.565419                           покупка жилья  \n",
       "6   240525.971920                       операции с жильем  \n",
       "7   135823.934197                             образование  \n",
       "8    95856.832424                   на проведение свадьбы  \n",
       "9   144425.938277                 покупка жилья для семьи  \n",
       "10  113943.491460                    покупка недвижимости  \n",
       "11   77069.234271       покупка коммерческой недвижимости  \n",
       "12            NaN                         сыграть свадьбу  \n",
       "13  130458.228857                 приобретение автомобиля  \n",
       "14  165127.911772              покупка жилой недвижимости  \n",
       "15  116820.904450  строительство собственной недвижимости  \n",
       "16  289202.704229                            недвижимость  \n",
       "17   90410.586745              строительство недвижимости  \n",
       "18   56823.777243      на покупку подержанного автомобиля  \n",
       "19  242831.107982            на покупку своего автомобиля  "
      ]
     },
     "execution_count": 3,
     "metadata": {},
     "output_type": "execute_result"
    }
   ],
   "source": [
    "data.head(20)"
   ]
  },
  {
   "cell_type": "markdown",
   "id": "51723200",
   "metadata": {
    "deletable": false,
    "editable": false,
    "id": "1c12e233"
   },
   "source": [
    "**Задание 3. Выведите основную информацию о датафрейме с помощью метода `info()`.**"
   ]
  },
  {
   "cell_type": "code",
   "execution_count": 4,
   "id": "b61fcb42",
   "metadata": {
    "deletable": false,
    "id": "2b757bca",
    "outputId": "15376089-8dad-46c9-b520-c05248d43158"
   },
   "outputs": [
    {
     "name": "stdout",
     "output_type": "stream",
     "text": [
      "<class 'pandas.core.frame.DataFrame'>\n",
      "RangeIndex: 21525 entries, 0 to 21524\n",
      "Data columns (total 12 columns):\n",
      " #   Column            Non-Null Count  Dtype  \n",
      "---  ------            --------------  -----  \n",
      " 0   children          21525 non-null  int64  \n",
      " 1   days_employed     19351 non-null  float64\n",
      " 2   dob_years         21525 non-null  int64  \n",
      " 3   education         21525 non-null  object \n",
      " 4   education_id      21525 non-null  int64  \n",
      " 5   family_status     21525 non-null  object \n",
      " 6   family_status_id  21525 non-null  int64  \n",
      " 7   gender            21525 non-null  object \n",
      " 8   income_type       21525 non-null  object \n",
      " 9   debt              21525 non-null  int64  \n",
      " 10  total_income      19351 non-null  float64\n",
      " 11  purpose           21525 non-null  object \n",
      "dtypes: float64(2), int64(5), object(5)\n",
      "memory usage: 2.0+ MB\n"
     ]
    }
   ],
   "source": [
    "data.info()"
   ]
  },
  {
   "cell_type": "markdown",
   "id": "753e5bcd",
   "metadata": {
    "deletable": false,
    "editable": false,
    "id": "333ec665"
   },
   "source": [
    "## Предобработка данных"
   ]
  },
  {
   "cell_type": "markdown",
   "id": "43bd5dc4",
   "metadata": {
    "deletable": false,
    "editable": false,
    "id": "02d92d53"
   },
   "source": [
    "### Удаление пропусков"
   ]
  },
  {
   "cell_type": "markdown",
   "id": "f2eeeb6f",
   "metadata": {
    "deletable": false,
    "editable": false,
    "id": "cd84967c"
   },
   "source": [
    "**Задание 4. Выведите количество пропущенных значений для каждого столбца. Используйте комбинацию двух методов.**"
   ]
  },
  {
   "cell_type": "code",
   "execution_count": 5,
   "id": "df7d3df4",
   "metadata": {
    "deletable": false,
    "id": "7f9b2309",
    "outputId": "81f4d817-781c-465c-ed15-91ce4446810d"
   },
   "outputs": [
    {
     "data": {
      "text/plain": [
       "children               0\n",
       "days_employed       2174\n",
       "dob_years              0\n",
       "education              0\n",
       "education_id           0\n",
       "family_status          0\n",
       "family_status_id       0\n",
       "gender                 0\n",
       "income_type            0\n",
       "debt                   0\n",
       "total_income        2174\n",
       "purpose                0\n",
       "dtype: int64"
      ]
     },
     "execution_count": 5,
     "metadata": {},
     "output_type": "execute_result"
    }
   ],
   "source": [
    "data.isna().sum()"
   ]
  },
  {
   "cell_type": "markdown",
   "id": "7c937d22",
   "metadata": {},
   "source": [
    "Поскольку мы видим значительное количество пропусков значений в столбцах days_employed и total_income необходимо уровновесить данные медианным значением дохода"
   ]
  },
  {
   "cell_type": "markdown",
   "id": "8b3fa125",
   "metadata": {
    "deletable": false,
    "editable": false,
    "id": "db86e27b"
   },
   "source": [
    "**Задание 5. В двух столбцах есть пропущенные значения. Один из них — `days_employed`. Пропуски в этом столбце вы обработаете на следующем этапе. Другой столбец с пропущенными значениями — `total_income` — хранит данные о доходах. На сумму дохода сильнее всего влияет тип занятости, поэтому заполнить пропуски в этом столбце нужно медианным значением по каждому типу из столбца `income_type`. Например, у человека с типом занятости `сотрудник` пропуск в столбце `total_income` должен быть заполнен медианным доходом среди всех записей с тем же типом.**"
   ]
  },
  {
   "cell_type": "code",
   "execution_count": 6,
   "id": "44089303",
   "metadata": {
    "deletable": false,
    "id": "42006a93"
   },
   "outputs": [],
   "source": [
    "for t in data['income_type'].unique():\n",
    "    data.loc[(data['income_type'] == t) & (data['total_income'].isna()), 'total_income'] = \\\n",
    "    data.loc[(data['income_type'] == t), 'total_income'].median()"
   ]
  },
  {
   "cell_type": "markdown",
   "id": "a9f64feb",
   "metadata": {
    "deletable": false,
    "editable": false,
    "id": "89da5ece"
   },
   "source": [
    "### Обработка аномальных значений"
   ]
  },
  {
   "cell_type": "markdown",
   "id": "4c9f6900",
   "metadata": {
    "deletable": false,
    "editable": false,
    "id": "57964554"
   },
   "source": [
    "**Задание 6. В данных могут встречаться артефакты (аномалии) — значения, которые не отражают действительность и появились по какой-то ошибке. таким артефактом будет отрицательное количество дней трудового стажа в столбце `days_employed`. Для реальных данных это нормально. Обработайте значения в этом столбце: замените все отрицательные значения положительными с помощью метода `abs()`.**"
   ]
  },
  {
   "cell_type": "code",
   "execution_count": 7,
   "id": "e686774c",
   "metadata": {
    "deletable": false,
    "id": "f6f055bf"
   },
   "outputs": [],
   "source": [
    "data['days_employed'] = data['days_employed'].abs()"
   ]
  },
  {
   "cell_type": "markdown",
   "id": "726457c7",
   "metadata": {
    "deletable": false,
    "editable": false,
    "id": "6107dd2f"
   },
   "source": [
    "**Задание 7. Для каждого типа занятости выведите медианное значение трудового стажа `days_employed` в днях.**"
   ]
  },
  {
   "cell_type": "code",
   "execution_count": 8,
   "id": "d85e20e3",
   "metadata": {
    "deletable": false,
    "id": "85a5faf6",
    "outputId": "801ef80e-522b-4668-f34e-565af7432bcf"
   },
   "outputs": [
    {
     "data": {
      "text/plain": [
       "income_type\n",
       "безработный        366413.652744\n",
       "в декрете            3296.759962\n",
       "госслужащий          2689.368353\n",
       "компаньон            1547.382223\n",
       "пенсионер          365213.306266\n",
       "предприниматель       520.848083\n",
       "сотрудник            1574.202821\n",
       "студент               578.751554\n",
       "Name: days_employed, dtype: float64"
      ]
     },
     "execution_count": 8,
     "metadata": {},
     "output_type": "execute_result"
    }
   ],
   "source": [
    "data.groupby('income_type')['days_employed'].agg('median')"
   ]
  },
  {
   "cell_type": "markdown",
   "id": "633bb97d",
   "metadata": {
    "deletable": false,
    "editable": false,
    "id": "38d1a030"
   },
   "source": [
    "У двух типов (безработные и пенсионеры) получатся аномально большие значения. Исправить такие значения сложно, поэтому оставьте их как есть. Тем более этот столбец не понадобится вам для исследования."
   ]
  },
  {
   "cell_type": "markdown",
   "id": "f93063b4",
   "metadata": {
    "deletable": false,
    "editable": false,
    "id": "d8a9f147"
   },
   "source": [
    "**Задание 8. Выведите перечень уникальных значений столбца `children`.**"
   ]
  },
  {
   "cell_type": "code",
   "execution_count": 9,
   "id": "e056a0a8",
   "metadata": {
    "deletable": false,
    "id": "ef5056eb",
    "outputId": "6975b15c-7f95-4697-d16d-a0c79b657b03"
   },
   "outputs": [
    {
     "data": {
      "text/plain": [
       "array([ 1,  0,  3,  2, -1,  4, 20,  5])"
      ]
     },
     "execution_count": 9,
     "metadata": {},
     "output_type": "execute_result"
    }
   ],
   "source": [
    "data['children'].unique()"
   ]
  },
  {
   "cell_type": "markdown",
   "id": "616ea683",
   "metadata": {},
   "source": [
    "В столбце children были обнаружены значения, которые не могут соответствоать действительности. Для их устранения проведена следующая коррекция:"
   ]
  },
  {
   "cell_type": "markdown",
   "id": "815cb71e",
   "metadata": {
    "deletable": false,
    "editable": false,
    "id": "40b9ebf2"
   },
   "source": [
    "**Задание 9. В столбце `children` есть два аномальных значения. Удалите строки, в которых встречаются такие аномальные значения из датафрейма `data`.**"
   ]
  },
  {
   "cell_type": "code",
   "execution_count": 10,
   "id": "14b93c77",
   "metadata": {
    "deletable": false,
    "id": "3ff9801d"
   },
   "outputs": [],
   "source": [
    "data = data[(data['children'] != -1) & (data['children'] != 20)]"
   ]
  },
  {
   "cell_type": "markdown",
   "id": "2a254d96",
   "metadata": {
    "deletable": false,
    "editable": false,
    "id": "bbc4d0ce"
   },
   "source": [
    "**Задание 10. Ещё раз выведите перечень уникальных значений столбца `children`, чтобы убедиться, что артефакты удалены.**"
   ]
  },
  {
   "cell_type": "code",
   "execution_count": 11,
   "id": "0a12ef9a",
   "metadata": {
    "deletable": false,
    "id": "ad4fa8b7",
    "outputId": "b2097101-d49d-44d9-901b-32a65c9463d1"
   },
   "outputs": [
    {
     "data": {
      "text/plain": [
       "array([1, 0, 3, 2, 4, 5])"
      ]
     },
     "execution_count": 11,
     "metadata": {},
     "output_type": "execute_result"
    }
   ],
   "source": [
    "data['children'].unique()"
   ]
  },
  {
   "cell_type": "markdown",
   "id": "25eee771",
   "metadata": {},
   "source": [
    "Теперь значения столбца children корректны."
   ]
  },
  {
   "cell_type": "markdown",
   "id": "602de4f7",
   "metadata": {
    "deletable": false,
    "editable": false,
    "id": "75440b63"
   },
   "source": [
    "### Удаление пропусков (продолжение)"
   ]
  },
  {
   "cell_type": "markdown",
   "id": "2840c971",
   "metadata": {
    "deletable": false,
    "editable": false,
    "id": "f4ea573f"
   },
   "source": [
    "**Задание 11. Заполните пропуски в столбце `days_employed` медианными значениями по каждого типа занятости `income_type`.**"
   ]
  },
  {
   "cell_type": "code",
   "execution_count": 12,
   "id": "9804c8b1",
   "metadata": {
    "deletable": false,
    "id": "af6b1a7e"
   },
   "outputs": [],
   "source": [
    "for t in data['income_type'].unique():\n",
    "    data.loc[(data['income_type'] == t) & (data['days_employed'].isna()), 'days_employed'] = \\\n",
    "    data.loc[(data['income_type'] == t), 'days_employed'].median()"
   ]
  },
  {
   "cell_type": "markdown",
   "id": "e272e234",
   "metadata": {},
   "source": [
    "По аналогии со столбцом income_type заполняем медианными значениями пропущенные данные столбца days_employed"
   ]
  },
  {
   "cell_type": "markdown",
   "id": "9d7d69ad",
   "metadata": {
    "deletable": false,
    "editable": false,
    "id": "2753f40d"
   },
   "source": [
    "**Задание 12. Убедитесь, что все пропуски заполнены. Проверьте себя и ещё раз выведите количество пропущенных значений для каждого столбца с помощью двух методов.**"
   ]
  },
  {
   "cell_type": "code",
   "execution_count": 13,
   "id": "f1d03ea5",
   "metadata": {
    "deletable": false,
    "id": "55f78bc2",
    "outputId": "8da1e4e1-358e-4e87-98c9-f261bce0a7b2"
   },
   "outputs": [
    {
     "data": {
      "text/plain": [
       "children            0\n",
       "days_employed       0\n",
       "dob_years           0\n",
       "education           0\n",
       "education_id        0\n",
       "family_status       0\n",
       "family_status_id    0\n",
       "gender              0\n",
       "income_type         0\n",
       "debt                0\n",
       "total_income        0\n",
       "purpose             0\n",
       "dtype: int64"
      ]
     },
     "execution_count": 13,
     "metadata": {},
     "output_type": "execute_result"
    }
   ],
   "source": [
    "data.isna().sum()"
   ]
  },
  {
   "cell_type": "markdown",
   "id": "8055e3ea",
   "metadata": {
    "deletable": false,
    "editable": false,
    "id": "ddc81e43"
   },
   "source": [
    "### Изменение типов данных"
   ]
  },
  {
   "cell_type": "markdown",
   "id": "e1232093",
   "metadata": {
    "deletable": false,
    "editable": false,
    "id": "42d19d24"
   },
   "source": [
    "**Задание 13. Замените вещественный тип данных в столбце `total_income` на целочисленный с помощью метода `astype()`.**"
   ]
  },
  {
   "cell_type": "code",
   "execution_count": 14,
   "id": "8e093a7a",
   "metadata": {
    "deletable": false,
    "id": "920b65ad"
   },
   "outputs": [],
   "source": [
    "data['total_income'] = data['total_income'].astype(int)"
   ]
  },
  {
   "cell_type": "markdown",
   "id": "591c8b8f",
   "metadata": {
    "deletable": false,
    "editable": false,
    "id": "80c420ba"
   },
   "source": [
    "### Обработка дубликатов"
   ]
  },
  {
   "cell_type": "markdown",
   "id": "5c50efa1",
   "metadata": {
    "deletable": false,
    "editable": false
   },
   "source": [
    "**Задание 14. Обработайте неявные дубликаты в столбце `education`. В этом столбце есть одни и те же значения, но записанные по-разному: с использованием заглавных и строчных букв. Приведите их к нижнему регистру. Проверьте остальные столбцы.**"
   ]
  },
  {
   "cell_type": "code",
   "execution_count": 15,
   "id": "02355d37",
   "metadata": {
    "deletable": false
   },
   "outputs": [],
   "source": [
    "data['education'] = data['education'].str.lower()"
   ]
  },
  {
   "cell_type": "markdown",
   "id": "e56f279d",
   "metadata": {
    "deletable": false,
    "editable": false,
    "id": "dc587695"
   },
   "source": [
    "**Задание 15. Выведите на экран количество строк-дубликатов в данных. Если такие строки присутствуют, удалите их.**"
   ]
  },
  {
   "cell_type": "code",
   "execution_count": 16,
   "id": "f196c408",
   "metadata": {
    "deletable": false,
    "id": "3ee445e4",
    "outputId": "9684deba-1934-42d1-99e1-cda61740f822"
   },
   "outputs": [
    {
     "data": {
      "text/plain": [
       "71"
      ]
     },
     "execution_count": 16,
     "metadata": {},
     "output_type": "execute_result"
    }
   ],
   "source": [
    "data.duplicated().sum()"
   ]
  },
  {
   "cell_type": "code",
   "execution_count": 17,
   "id": "8fd1bd53",
   "metadata": {
    "deletable": false,
    "id": "8575fe05"
   },
   "outputs": [],
   "source": [
    "data = data.drop_duplicates()"
   ]
  },
  {
   "cell_type": "markdown",
   "id": "d613cb6f",
   "metadata": {
    "deletable": false,
    "editable": false,
    "id": "9904cf55"
   },
   "source": [
    "### Категоризация данных"
   ]
  },
  {
   "cell_type": "markdown",
   "id": "007643f7",
   "metadata": {
    "deletable": false,
    "editable": false,
    "id": "72fcc8a2"
   },
   "source": [
    "**Задание 16. На основании диапазонов, указанных ниже, создайте в датафрейме `data` столбец `total_income_category` с категориями:**\n",
    "\n",
    "- 0–30000 — `'E'`;\n",
    "- 30001–50000 — `'D'`;\n",
    "- 50001–200000 — `'C'`;\n",
    "- 200001–1000000 — `'B'`;\n",
    "- 1000001 и выше — `'A'`.\n",
    "\n",
    "\n",
    "**Например, кредитополучателю с доходом 25000 нужно назначить категорию `'E'`, а клиенту, получающему 235000, — `'B'`. Используйте собственную функцию с именем `categorize_income()` и метод `apply()`.**"
   ]
  },
  {
   "cell_type": "code",
   "execution_count": 18,
   "id": "715069f4",
   "metadata": {
    "deletable": false,
    "id": "e1771346"
   },
   "outputs": [],
   "source": [
    "def categorize_income(income):\n",
    "    try:\n",
    "        if 0 <= income <= 30000:\n",
    "            return 'E'\n",
    "        elif 30001 <= income <= 50000:\n",
    "            return 'D'\n",
    "        elif 50001 <= income <= 200000:\n",
    "            return 'C'\n",
    "        elif 200001 <= income <= 1000000:\n",
    "            return 'B'\n",
    "        elif income >= 1000001:\n",
    "            return 'A'\n",
    "    except:\n",
    "        pass"
   ]
  },
  {
   "cell_type": "code",
   "execution_count": 19,
   "id": "10ba9579",
   "metadata": {
    "deletable": false,
    "id": "d5f3586d"
   },
   "outputs": [],
   "source": [
    "data['total_income_category'] = data['total_income'].apply(categorize_income)"
   ]
  },
  {
   "cell_type": "markdown",
   "id": "d61119df",
   "metadata": {
    "deletable": false,
    "editable": false,
    "id": "dde49b5c"
   },
   "source": [
    "**Задание 17. Выведите на экран перечень уникальных целей взятия кредита из столбца `purpose`.**"
   ]
  },
  {
   "cell_type": "code",
   "execution_count": 20,
   "id": "004c406b",
   "metadata": {
    "deletable": false,
    "id": "f67ce9b3",
    "outputId": "673c12d9-7d7e-4ae0-9812-c622c89dd244"
   },
   "outputs": [
    {
     "data": {
      "text/plain": [
       "array(['покупка жилья', 'приобретение автомобиля',\n",
       "       'дополнительное образование', 'сыграть свадьбу',\n",
       "       'операции с жильем', 'образование', 'на проведение свадьбы',\n",
       "       'покупка жилья для семьи', 'покупка недвижимости',\n",
       "       'покупка коммерческой недвижимости', 'покупка жилой недвижимости',\n",
       "       'строительство собственной недвижимости', 'недвижимость',\n",
       "       'строительство недвижимости', 'на покупку подержанного автомобиля',\n",
       "       'на покупку своего автомобиля',\n",
       "       'операции с коммерческой недвижимостью',\n",
       "       'строительство жилой недвижимости', 'жилье',\n",
       "       'операции со своей недвижимостью', 'автомобили',\n",
       "       'заняться образованием', 'сделка с подержанным автомобилем',\n",
       "       'получение образования', 'автомобиль', 'свадьба',\n",
       "       'получение дополнительного образования', 'покупка своего жилья',\n",
       "       'операции с недвижимостью', 'получение высшего образования',\n",
       "       'свой автомобиль', 'сделка с автомобилем',\n",
       "       'профильное образование', 'высшее образование',\n",
       "       'покупка жилья для сдачи', 'на покупку автомобиля', 'ремонт жилью',\n",
       "       'заняться высшим образованием'], dtype=object)"
      ]
     },
     "execution_count": 20,
     "metadata": {},
     "output_type": "execute_result"
    }
   ],
   "source": [
    "data['purpose'].unique()"
   ]
  },
  {
   "cell_type": "markdown",
   "id": "397c401e",
   "metadata": {
    "deletable": false,
    "editable": false,
    "id": "85d0aef0"
   },
   "source": [
    "**Задание 18. Создайте функцию, которая на основании данных из столбца `purpose` сформирует новый столбец `purpose_category`, в который войдут следующие категории:**\n",
    "\n",
    "- `'операции с автомобилем'`,\n",
    "- `'операции с недвижимостью'`,\n",
    "- `'проведение свадьбы'`,\n",
    "- `'получение образования'`.\n",
    "\n",
    "**Например, если в столбце `purpose` находится подстрока `'на покупку автомобиля'`, то в столбце `purpose_category` должна появиться строка `'операции с автомобилем'`.**\n",
    "\n",
    "**Используйте собственную функцию с именем `categorize_purpose()` и метод `apply()`. Изучите данные в столбце `purpose` и определите, какие подстроки помогут вам правильно определить категорию.**"
   ]
  },
  {
   "cell_type": "code",
   "execution_count": 21,
   "id": "96f328d4",
   "metadata": {
    "deletable": false,
    "id": "e149fab4"
   },
   "outputs": [],
   "source": [
    "def categorize_purpose(row):\n",
    "    try:\n",
    "        if 'автом' in row:\n",
    "            return 'операции с автомобилем'\n",
    "        elif 'жил' in row or 'недвиж' in row:\n",
    "            return 'операции с недвижимостью'\n",
    "        elif 'свад' in row:\n",
    "            return 'проведение свадьбы'\n",
    "        elif 'образов' in row:\n",
    "            return 'получение образования'\n",
    "    except:\n",
    "        return 'нет категории'"
   ]
  },
  {
   "cell_type": "code",
   "execution_count": 21,
   "id": "2fc394a4",
   "metadata": {
    "deletable": false,
    "id": "bf36e69b"
   },
   "outputs": [
    {
     "name": "stdout",
     "output_type": "stream",
     "text": [
      "   children  days_employed  dob_years education  education_id  \\\n",
      "0         1    8437.673028         42    высшее             0   \n",
      "1         1    4024.803754         36   среднее             1   \n",
      "2         0    5623.422610         33   среднее             1   \n",
      "3         3    4124.747207         32   среднее             1   \n",
      "4         0  340266.072047         53   среднее             1   \n",
      "5         0     926.185831         27    высшее             0   \n",
      "6         0    2879.202052         43    высшее             0   \n",
      "7         0     152.779569         50   среднее             1   \n",
      "8         2    6929.865299         35    высшее             0   \n",
      "9         0    2188.756445         41   среднее             1   \n",
      "\n",
      "      family_status  family_status_id gender income_type  debt  total_income  \\\n",
      "0   женат / замужем                 0      F   сотрудник     0        253875   \n",
      "1   женат / замужем                 0      F   сотрудник     0        112080   \n",
      "2   женат / замужем                 0      M   сотрудник     0        145885   \n",
      "3   женат / замужем                 0      M   сотрудник     0        267628   \n",
      "4  гражданский брак                 1      F   пенсионер     0        158616   \n",
      "5  гражданский брак                 1      M   компаньон     0        255763   \n",
      "6   женат / замужем                 0      F   компаньон     0        240525   \n",
      "7   женат / замужем                 0      M   сотрудник     0        135823   \n",
      "8  гражданский брак                 1      F   сотрудник     0         95856   \n",
      "9   женат / замужем                 0      M   сотрудник     0        144425   \n",
      "\n",
      "                      purpose total_income_category          purpose_category  \n",
      "0               покупка жилья                     B  операции с недвижимостью  \n",
      "1     приобретение автомобиля                     C    операции с автомобилем  \n",
      "2               покупка жилья                     C  операции с недвижимостью  \n",
      "3  дополнительное образование                     B     получение образования  \n",
      "4             сыграть свадьбу                     C        проведение свадьбы  \n",
      "5               покупка жилья                     B  операции с недвижимостью  \n",
      "6           операции с жильем                     B  операции с недвижимостью  \n",
      "7                 образование                     C     получение образования  \n",
      "8       на проведение свадьбы                     C        проведение свадьбы  \n",
      "9     покупка жилья для семьи                     C  операции с недвижимостью  \n"
     ]
    }
   ],
   "source": [
    "data['purpose_category'] = data['purpose'].apply(categorize_purpose)\n",
    "\n",
    "print(data.head(10))"
   ]
  },
  {
   "cell_type": "markdown",
   "id": "fc0f280c",
   "metadata": {
    "deletable": false,
    "editable": false,
    "id": "09b242bf"
   },
   "source": [
    "### Шаг 3. Исследуйте данные и ответьте на вопросы"
   ]
  },
  {
   "cell_type": "markdown",
   "id": "e924d7f3",
   "metadata": {
    "deletable": false,
    "editable": false,
    "id": "c5d66278"
   },
   "source": [
    "#### 3.1 Есть ли зависимость между количеством детей и возвратом кредита в срок?"
   ]
  },
  {
   "cell_type": "code",
   "execution_count": 22,
   "id": "cb432ec3",
   "metadata": {
    "deletable": false,
    "id": "2cacfc4a"
   },
   "outputs": [
    {
     "data": {
      "text/html": [
       "<div>\n",
       "<style scoped>\n",
       "    .dataframe tbody tr th:only-of-type {\n",
       "        vertical-align: middle;\n",
       "    }\n",
       "\n",
       "    .dataframe tbody tr th {\n",
       "        vertical-align: top;\n",
       "    }\n",
       "\n",
       "    .dataframe thead th {\n",
       "        text-align: right;\n",
       "    }\n",
       "</style>\n",
       "<table border=\"1\" class=\"dataframe\">\n",
       "  <thead>\n",
       "    <tr style=\"text-align: right;\">\n",
       "      <th></th>\n",
       "      <th>count_children</th>\n",
       "      <th>sum_children</th>\n",
       "      <th>total_results</th>\n",
       "    </tr>\n",
       "    <tr>\n",
       "      <th>children</th>\n",
       "      <th></th>\n",
       "      <th></th>\n",
       "      <th></th>\n",
       "    </tr>\n",
       "  </thead>\n",
       "  <tbody>\n",
       "    <tr>\n",
       "      <th>4</th>\n",
       "      <td>41</td>\n",
       "      <td>4</td>\n",
       "      <td>0.097561</td>\n",
       "    </tr>\n",
       "    <tr>\n",
       "      <th>2</th>\n",
       "      <td>2052</td>\n",
       "      <td>194</td>\n",
       "      <td>0.094542</td>\n",
       "    </tr>\n",
       "    <tr>\n",
       "      <th>1</th>\n",
       "      <td>4808</td>\n",
       "      <td>444</td>\n",
       "      <td>0.092346</td>\n",
       "    </tr>\n",
       "    <tr>\n",
       "      <th>3</th>\n",
       "      <td>330</td>\n",
       "      <td>27</td>\n",
       "      <td>0.081818</td>\n",
       "    </tr>\n",
       "    <tr>\n",
       "      <th>0</th>\n",
       "      <td>14091</td>\n",
       "      <td>1063</td>\n",
       "      <td>0.075438</td>\n",
       "    </tr>\n",
       "    <tr>\n",
       "      <th>5</th>\n",
       "      <td>9</td>\n",
       "      <td>0</td>\n",
       "      <td>0.000000</td>\n",
       "    </tr>\n",
       "  </tbody>\n",
       "</table>\n",
       "</div>"
      ],
      "text/plain": [
       "          count_children  sum_children  total_results\n",
       "children                                             \n",
       "4                     41             4       0.097561\n",
       "2                   2052           194       0.094542\n",
       "1                   4808           444       0.092346\n",
       "3                    330            27       0.081818\n",
       "0                  14091          1063       0.075438\n",
       "5                      9             0       0.000000"
      ]
     },
     "execution_count": 22,
     "metadata": {},
     "output_type": "execute_result"
    }
   ],
   "source": [
    "debt_with_children = pd.DataFrame()\n",
    "\n",
    "debt_with_children['count_children'] = data.groupby('children')['debt'].count()\n",
    "debt_with_children['sum_children'] = data.groupby('children')['debt'].sum()\n",
    "debt_with_children['total_results'] = debt_with_children['sum_children']/debt_with_children['count_children']\n",
    "debt_with_children.sort_values('total_results', ascending = False)\n",
    "\n",
    "                              "
   ]
  },
  {
   "cell_type": "markdown",
   "id": "bc8c3376",
   "metadata": {
    "deletable": false,
    "id": "3a6b99ec"
   },
   "source": [
    "**Вывод:** Таким образом мы видим, что семьи с меньшим количеством детей не допускают просрочек чаще, чем в семьях с большим количеством детей. Ошибочно полагать, что семьи с тремя детьми платят в срок чаще, так как количественное соотношение самих семей имеющихтроих детей существенно ниже прочих вариантов."
   ]
  },
  {
   "cell_type": "markdown",
   "id": "697ba596",
   "metadata": {
    "deletable": false,
    "editable": false,
    "id": "97be82ca"
   },
   "source": [
    "#### 3.2 Есть ли зависимость между семейным положением и возвратом кредита в срок?"
   ]
  },
  {
   "cell_type": "code",
   "execution_count": 23,
   "id": "f643ff08",
   "metadata": {
    "deletable": false,
    "id": "dc3f7ee8"
   },
   "outputs": [
    {
     "data": {
      "text/html": [
       "<div>\n",
       "<style scoped>\n",
       "    .dataframe tbody tr th:only-of-type {\n",
       "        vertical-align: middle;\n",
       "    }\n",
       "\n",
       "    .dataframe tbody tr th {\n",
       "        vertical-align: top;\n",
       "    }\n",
       "\n",
       "    .dataframe thead th {\n",
       "        text-align: right;\n",
       "    }\n",
       "</style>\n",
       "<table border=\"1\" class=\"dataframe\">\n",
       "  <thead>\n",
       "    <tr style=\"text-align: right;\">\n",
       "      <th></th>\n",
       "      <th>count_family</th>\n",
       "      <th>sum_family</th>\n",
       "      <th>total_results</th>\n",
       "    </tr>\n",
       "    <tr>\n",
       "      <th>family_status</th>\n",
       "      <th></th>\n",
       "      <th></th>\n",
       "      <th></th>\n",
       "    </tr>\n",
       "  </thead>\n",
       "  <tbody>\n",
       "    <tr>\n",
       "      <th>Не женат / не замужем</th>\n",
       "      <td>2796</td>\n",
       "      <td>273</td>\n",
       "      <td>0.097639</td>\n",
       "    </tr>\n",
       "    <tr>\n",
       "      <th>гражданский брак</th>\n",
       "      <td>4134</td>\n",
       "      <td>385</td>\n",
       "      <td>0.093130</td>\n",
       "    </tr>\n",
       "    <tr>\n",
       "      <th>женат / замужем</th>\n",
       "      <td>12261</td>\n",
       "      <td>927</td>\n",
       "      <td>0.075606</td>\n",
       "    </tr>\n",
       "    <tr>\n",
       "      <th>в разводе</th>\n",
       "      <td>1189</td>\n",
       "      <td>84</td>\n",
       "      <td>0.070648</td>\n",
       "    </tr>\n",
       "    <tr>\n",
       "      <th>вдовец / вдова</th>\n",
       "      <td>951</td>\n",
       "      <td>63</td>\n",
       "      <td>0.066246</td>\n",
       "    </tr>\n",
       "  </tbody>\n",
       "</table>\n",
       "</div>"
      ],
      "text/plain": [
       "                       count_family  sum_family  total_results\n",
       "family_status                                                 \n",
       "Не женат / не замужем          2796         273       0.097639\n",
       "гражданский брак               4134         385       0.093130\n",
       "женат / замужем               12261         927       0.075606\n",
       "в разводе                      1189          84       0.070648\n",
       "вдовец / вдова                  951          63       0.066246"
      ]
     },
     "execution_count": 23,
     "metadata": {},
     "output_type": "execute_result"
    }
   ],
   "source": [
    "debt_family = pd.DataFrame()\n",
    "\n",
    "debt_family['count_family'] = data.groupby('family_status')['debt'].count()\n",
    "debt_family['sum_family'] = data.groupby('family_status')['debt'].sum()\n",
    "debt_family['total_results'] = debt_family['sum_family']/debt_family['count_family']\n",
    "debt_family.sort_values('total_results', ascending = False)"
   ]
  },
  {
   "cell_type": "markdown",
   "id": "602d3743",
   "metadata": {
    "deletable": false,
    "id": "1cef7837"
   },
   "source": [
    "**Вывод:** Люди не состоящие в серьезных отношениях имеют большее число задолженностей, чем имеющие семью. Для более точного утврждения данных, что овдовевшие и разведенные платят стабильнее необходимо дополнительное исследование уравнивающее количество исследуемых сторон."
   ]
  },
  {
   "cell_type": "markdown",
   "id": "6e046eb6",
   "metadata": {
    "deletable": false,
    "editable": false,
    "id": "1e8b2fca"
   },
   "source": [
    "#### 3.3 Есть ли зависимость между уровнем дохода и возвратом кредита в срок?"
   ]
  },
  {
   "cell_type": "code",
   "execution_count": 35,
   "id": "54275520",
   "metadata": {
    "deletable": false,
    "id": "cd7e3720"
   },
   "outputs": [
    {
     "data": {
      "image/png": "[encoded data removed]",
      "text/plain": [
       "<Figure size 720x504 with 1 Axes>"
      ]
     },
     "metadata": {
      "needs_background": "light"
     },
     "output_type": "display_data"
    }
   ],
   "source": [
    "import matplotlib.pyplot as plt  \n",
    "import seaborn as sns\n",
    "f, ax=plt.subplots(figsize=(10,7))\n",
    "ax = sns.barplot(x= 'total_income_category', y='debt', palette='hls', data=data)"
   ]
  },
  {
   "cell_type": "markdown",
   "id": "6d88d54c",
   "metadata": {
    "deletable": false,
    "id": "e8593def"
   },
   "source": [
    "**Вывод:** Если и имеется зависимость возврата кредита от уровня дохода, то в малозначительном проявлении. Но стоит обратить внимание на заёмщиков с доходом попадающим под категорию \"Е\" - до 30 000 руб."
   ]
  },
  {
   "cell_type": "markdown",
   "id": "d38a4152",
   "metadata": {
    "deletable": false,
    "editable": false,
    "id": "99ecbd1f"
   },
   "source": [
    "#### 3.4 Как разные цели кредита влияют на его возврат в срок?"
   ]
  },
  {
   "cell_type": "code",
   "execution_count": 25,
   "id": "e6131eeb",
   "metadata": {
    "deletable": false,
    "id": "2b687290"
   },
   "outputs": [
    {
     "data": {
      "text/html": [
       "<div>\n",
       "<style scoped>\n",
       "    .dataframe tbody tr th:only-of-type {\n",
       "        vertical-align: middle;\n",
       "    }\n",
       "\n",
       "    .dataframe tbody tr th {\n",
       "        vertical-align: top;\n",
       "    }\n",
       "\n",
       "    .dataframe thead th {\n",
       "        text-align: right;\n",
       "    }\n",
       "</style>\n",
       "<table border=\"1\" class=\"dataframe\">\n",
       "  <thead>\n",
       "    <tr style=\"text-align: right;\">\n",
       "      <th></th>\n",
       "      <th>count_category</th>\n",
       "      <th>sum_category</th>\n",
       "      <th>total_results</th>\n",
       "    </tr>\n",
       "    <tr>\n",
       "      <th>purpose_category</th>\n",
       "      <th></th>\n",
       "      <th></th>\n",
       "      <th></th>\n",
       "    </tr>\n",
       "  </thead>\n",
       "  <tbody>\n",
       "    <tr>\n",
       "      <th>операции с автомобилем</th>\n",
       "      <td>4279</td>\n",
       "      <td>400</td>\n",
       "      <td>0.093480</td>\n",
       "    </tr>\n",
       "    <tr>\n",
       "      <th>получение образования</th>\n",
       "      <td>3988</td>\n",
       "      <td>369</td>\n",
       "      <td>0.092528</td>\n",
       "    </tr>\n",
       "    <tr>\n",
       "      <th>проведение свадьбы</th>\n",
       "      <td>2313</td>\n",
       "      <td>183</td>\n",
       "      <td>0.079118</td>\n",
       "    </tr>\n",
       "    <tr>\n",
       "      <th>операции с недвижимостью</th>\n",
       "      <td>10751</td>\n",
       "      <td>780</td>\n",
       "      <td>0.072551</td>\n",
       "    </tr>\n",
       "  </tbody>\n",
       "</table>\n",
       "</div>"
      ],
      "text/plain": [
       "                          count_category  sum_category  total_results\n",
       "purpose_category                                                     \n",
       "операции с автомобилем              4279           400       0.093480\n",
       "получение образования               3988           369       0.092528\n",
       "проведение свадьбы                  2313           183       0.079118\n",
       "операции с недвижимостью           10751           780       0.072551"
      ]
     },
     "execution_count": 25,
     "metadata": {},
     "output_type": "execute_result"
    }
   ],
   "source": [
    "debt_purpose_category = pd.DataFrame()\n",
    "\n",
    "debt_purpose_category['count_category'] = data.groupby('purpose_category')['debt'].count()\n",
    "debt_purpose_category['sum_category'] = data.groupby('purpose_category')['debt'].sum()\n",
    "debt_purpose_category['total_results'] = debt_purpose_category['sum_category']/debt_purpose_category['count_category']\n",
    "debt_purpose_category.sort_values('total_results', ascending = False)"
   ]
  },
  {
   "cell_type": "markdown",
   "id": "269e9ed2",
   "metadata": {
    "deletable": false,
    "id": "b4bb2ce6"
   },
   "source": [
    "**Вывод:** Самая стабильная цель кредита - недвижимость, по ней минимальное количество просрочек. Автомобили и получение образования - можно отнести к целям с повышенной вероятностью просрочек и невозвратов. Свадьбы - наиболее малочисленная цель и вновь это является причиной для уточнения данных с целью наиболее корректного вывода."
   ]
  },
  {
   "cell_type": "markdown",
   "id": "813aab74",
   "metadata": {
    "deletable": false,
    "editable": false,
    "id": "09c3ac4c"
   },
   "source": [
    "#### 3.5 Приведите возможные причины появления пропусков в исходных данных."
   ]
  },
  {
   "cell_type": "markdown",
   "id": "27297c51",
   "metadata": {
    "deletable": false,
    "id": "9da2ceda"
   },
   "source": [
    "*Ответ:* Пропуски в данных могут появиться по различным причинам. Например, человеческий фактор - то есть ошибка или невнимательность заполнявшего. Также, это может быть сбой системы если речь идет об автоматизированной системе сбора данных."
   ]
  },
  {
   "cell_type": "markdown",
   "id": "88f69700",
   "metadata": {
    "deletable": false,
    "editable": false,
    "id": "7b0487d6"
   },
   "source": [
    "#### 3.6 Объясните, почему заполнить пропуски медианным значением — лучшее решение для количественных переменных."
   ]
  },
  {
   "cell_type": "markdown",
   "id": "c65494db",
   "metadata": {
    "deletable": false,
    "id": "7ecf2b8e"
   },
   "source": [
    "*Ответ:* Медианное значение уравновешивает результаты, если в данных имеются значительные лидеры, которые значения которых могут исказить средние результаты."
   ]
  },
  {
   "cell_type": "markdown",
   "id": "b380b770",
   "metadata": {
    "deletable": false,
    "editable": false,
    "id": "6db5255a"
   },
   "source": [
    "### Шаг 4: общий вывод."
   ]
  },
  {
   "cell_type": "markdown",
   "id": "2c17f12d",
   "metadata": {
    "deletable": false,
    "id": "bad65432"
   },
   "source": [
    "Портрет приоритетного заёмщика будет выглядеть примерно так: \n",
    "\n",
    "Люди имеющие семью, имеющие до 3-х детей, с доходом не ниже 30 000 руб., целью получения кредита которых является покупка недвижимости. \n",
    "\n",
    "Портрету заёмщика с относящегося к группе риска соответствуют: \n",
    "\n",
    "Люди не имеющие семью или имеющие более 3-х детей, с доходом ниже 30 000 руб., целью получения кредита является получение образования или операции с автомобилем.\n",
    "\n",
    "Для более точного анализа необходимо также исследовать дополнительные факторы, например: наличие у заемщика дополнительных кредитов или обременений."
   ]
  }
 ],
 "metadata": {
  "ExecuteTimeLog": [
   {
    "duration": 56,
    "start_time": "2022-08-14T09:10:46.237Z"
   },
   {
    "duration": 463,
    "start_time": "2022-08-14T09:11:01.056Z"
   },
   {
    "duration": 21,
    "start_time": "2022-08-14T09:11:03.676Z"
   },
   {
    "duration": 15,
    "start_time": "2022-08-14T09:11:08.546Z"
   },
   {
    "duration": 8,
    "start_time": "2022-08-14T09:11:13.910Z"
   },
   {
    "duration": 29,
    "start_time": "2022-08-14T09:11:18.451Z"
   },
   {
    "duration": 3,
    "start_time": "2022-08-14T09:11:22.024Z"
   },
   {
    "duration": 7,
    "start_time": "2022-08-14T09:11:24.226Z"
   },
   {
    "duration": 4,
    "start_time": "2022-08-14T09:11:34.476Z"
   },
   {
    "duration": 6,
    "start_time": "2022-08-14T09:11:38.600Z"
   },
   {
    "duration": 4,
    "start_time": "2022-08-14T09:11:42.965Z"
   },
   {
    "duration": 27,
    "start_time": "2022-08-14T09:11:45.932Z"
   },
   {
    "duration": 8,
    "start_time": "2022-08-14T09:11:52.432Z"
   },
   {
    "duration": 4,
    "start_time": "2022-08-14T09:11:56.952Z"
   },
   {
    "duration": 12,
    "start_time": "2022-08-14T09:11:59.686Z"
   },
   {
    "duration": 17,
    "start_time": "2022-08-14T09:12:03.319Z"
   },
   {
    "duration": 23,
    "start_time": "2022-08-14T09:12:05.999Z"
   },
   {
    "duration": 4,
    "start_time": "2022-08-14T09:12:08.940Z"
   },
   {
    "duration": 10,
    "start_time": "2022-08-14T09:12:11.102Z"
   },
   {
    "duration": 6,
    "start_time": "2022-08-14T09:12:13.738Z"
   },
   {
    "duration": 3,
    "start_time": "2022-08-14T09:12:18.777Z"
   },
   {
    "duration": 17,
    "start_time": "2022-08-14T09:12:20.776Z"
   },
   {
    "duration": 27,
    "start_time": "2022-08-14T09:54:59.865Z"
   },
   {
    "duration": 8,
    "start_time": "2022-08-14T09:55:41.802Z"
   },
   {
    "duration": 13,
    "start_time": "2022-08-14T09:56:05.116Z"
   },
   {
    "duration": 8,
    "start_time": "2022-08-14T09:56:42.113Z"
   },
   {
    "duration": 4,
    "start_time": "2022-08-14T10:05:53.656Z"
   },
   {
    "duration": 5,
    "start_time": "2022-08-14T10:06:14.369Z"
   },
   {
    "duration": 4,
    "start_time": "2022-08-14T10:14:01.369Z"
   },
   {
    "duration": 7,
    "start_time": "2022-08-14T10:14:35.139Z"
   },
   {
    "duration": 5,
    "start_time": "2022-08-14T10:15:12.620Z"
   },
   {
    "duration": 6,
    "start_time": "2022-08-14T10:16:02.449Z"
   },
   {
    "duration": 4,
    "start_time": "2022-08-14T11:11:53.395Z"
   },
   {
    "duration": 16,
    "start_time": "2022-08-14T11:26:28.520Z"
   },
   {
    "duration": 6,
    "start_time": "2022-08-14T11:26:53.048Z"
   },
   {
    "duration": 15,
    "start_time": "2022-08-14T11:27:06.501Z"
   },
   {
    "duration": 16,
    "start_time": "2022-08-14T11:28:54.589Z"
   },
   {
    "duration": 4,
    "start_time": "2022-08-14T11:35:41.185Z"
   },
   {
    "duration": 1221,
    "start_time": "2022-08-14T11:43:31.615Z"
   },
   {
    "duration": 7,
    "start_time": "2022-08-14T11:45:00.676Z"
   },
   {
    "duration": 102,
    "start_time": "2022-08-14T11:46:41.046Z"
   },
   {
    "duration": 75,
    "start_time": "2022-08-14T11:46:49.200Z"
   },
   {
    "duration": 11,
    "start_time": "2022-08-14T11:47:16.731Z"
   },
   {
    "duration": 5,
    "start_time": "2022-08-14T11:47:58.317Z"
   },
   {
    "duration": 9,
    "start_time": "2022-08-14T11:48:15.722Z"
   },
   {
    "duration": 75,
    "start_time": "2022-08-14T11:49:31.557Z"
   },
   {
    "duration": 869,
    "start_time": "2022-08-14T11:50:07.401Z"
   },
   {
    "duration": 17,
    "start_time": "2022-08-14T11:50:52.113Z"
   },
   {
    "duration": 5,
    "start_time": "2022-08-14T11:51:00.196Z"
   },
   {
    "duration": 845,
    "start_time": "2022-08-14T11:51:03.472Z"
   },
   {
    "duration": 1101,
    "start_time": "2022-08-14T11:51:37.215Z"
   },
   {
    "duration": 911,
    "start_time": "2022-08-14T11:52:29.917Z"
   },
   {
    "duration": 983,
    "start_time": "2022-08-14T11:52:47.387Z"
   },
   {
    "duration": 945,
    "start_time": "2022-08-14T11:58:38.971Z"
   },
   {
    "duration": 863,
    "start_time": "2022-08-14T12:23:56.937Z"
   },
   {
    "duration": 3,
    "start_time": "2022-08-14T13:37:56.307Z"
   },
   {
    "duration": 4,
    "start_time": "2022-08-14T13:38:07.575Z"
   },
   {
    "duration": 5,
    "start_time": "2022-08-14T13:40:31.900Z"
   },
   {
    "duration": 81,
    "start_time": "2022-08-14T14:00:41.659Z"
   },
   {
    "duration": 96,
    "start_time": "2022-08-14T14:00:51.160Z"
   },
   {
    "duration": 74,
    "start_time": "2022-08-14T14:01:18.724Z"
   },
   {
    "duration": 5,
    "start_time": "2022-08-14T14:53:31.150Z"
   },
   {
    "duration": 80,
    "start_time": "2022-08-14T15:04:25.201Z"
   },
   {
    "duration": 9,
    "start_time": "2022-08-14T15:05:10.547Z"
   },
   {
    "duration": 17,
    "start_time": "2022-08-14T15:05:24.979Z"
   },
   {
    "duration": 10,
    "start_time": "2022-08-14T15:05:30.535Z"
   },
   {
    "duration": 8,
    "start_time": "2022-08-14T15:06:10.791Z"
   },
   {
    "duration": 9,
    "start_time": "2022-08-14T15:07:22.150Z"
   },
   {
    "duration": 4,
    "start_time": "2022-08-14T16:01:11.554Z"
   },
   {
    "duration": 51,
    "start_time": "2022-08-15T08:38:36.654Z"
   },
   {
    "duration": 539,
    "start_time": "2022-08-15T08:38:54.637Z"
   },
   {
    "duration": 24,
    "start_time": "2022-08-15T08:38:57.017Z"
   },
   {
    "duration": 15,
    "start_time": "2022-08-15T08:39:03.238Z"
   },
   {
    "duration": 11,
    "start_time": "2022-08-15T08:39:06.809Z"
   },
   {
    "duration": 36,
    "start_time": "2022-08-15T08:39:11.074Z"
   },
   {
    "duration": 4,
    "start_time": "2022-08-15T08:39:13.567Z"
   },
   {
    "duration": 7,
    "start_time": "2022-08-15T08:39:15.922Z"
   },
   {
    "duration": 4,
    "start_time": "2022-08-15T08:39:19.610Z"
   },
   {
    "duration": 7,
    "start_time": "2022-08-15T08:39:26.788Z"
   },
   {
    "duration": 4,
    "start_time": "2022-08-15T08:39:29.361Z"
   },
   {
    "duration": 35,
    "start_time": "2022-08-15T08:39:31.996Z"
   },
   {
    "duration": 10,
    "start_time": "2022-08-15T08:39:34.927Z"
   },
   {
    "duration": 4,
    "start_time": "2022-08-15T08:39:38.149Z"
   },
   {
    "duration": 12,
    "start_time": "2022-08-15T08:39:40.949Z"
   },
   {
    "duration": 21,
    "start_time": "2022-08-15T08:39:43.320Z"
   },
   {
    "duration": 17,
    "start_time": "2022-08-15T08:39:46.056Z"
   },
   {
    "duration": 3,
    "start_time": "2022-08-15T08:39:48.967Z"
   },
   {
    "duration": 11,
    "start_time": "2022-08-15T08:39:52.485Z"
   },
   {
    "duration": 8,
    "start_time": "2022-08-15T08:39:54.921Z"
   },
   {
    "duration": 4,
    "start_time": "2022-08-15T08:39:59.189Z"
   },
   {
    "duration": 39,
    "start_time": "2022-08-15T08:40:03.267Z"
   },
   {
    "duration": 34,
    "start_time": "2022-08-15T08:41:14.961Z"
   },
   {
    "duration": 27,
    "start_time": "2022-08-15T08:41:36.827Z"
   },
   {
    "duration": 34,
    "start_time": "2022-08-15T08:42:01.589Z"
   },
   {
    "duration": 28,
    "start_time": "2022-08-15T08:53:15.538Z"
   },
   {
    "duration": 10,
    "start_time": "2022-08-15T08:56:16.911Z"
   },
   {
    "duration": 14,
    "start_time": "2022-08-15T08:56:35.501Z"
   },
   {
    "duration": 27,
    "start_time": "2022-08-15T08:58:04.246Z"
   },
   {
    "duration": 26,
    "start_time": "2022-08-15T09:03:29.318Z"
   },
   {
    "duration": 24,
    "start_time": "2022-08-15T09:03:52.690Z"
   },
   {
    "duration": 72,
    "start_time": "2022-08-15T09:04:39.886Z"
   },
   {
    "duration": 8,
    "start_time": "2022-08-15T09:04:48.771Z"
   },
   {
    "duration": 12,
    "start_time": "2022-08-15T09:14:34.249Z"
   },
   {
    "duration": 124,
    "start_time": "2022-08-15T09:36:56.622Z"
   },
   {
    "duration": 169,
    "start_time": "2022-08-15T09:38:09.959Z"
   },
   {
    "duration": 96,
    "start_time": "2022-08-15T09:38:31.436Z"
   },
   {
    "duration": 14,
    "start_time": "2022-08-15T09:38:43.689Z"
   },
   {
    "duration": 13,
    "start_time": "2022-08-15T09:38:54.878Z"
   },
   {
    "duration": 13,
    "start_time": "2022-08-15T09:43:09.842Z"
   },
   {
    "duration": 9,
    "start_time": "2022-08-15T09:43:19.226Z"
   },
   {
    "duration": 115,
    "start_time": "2022-08-15T09:47:15.729Z"
   },
   {
    "duration": 11,
    "start_time": "2022-08-15T09:47:39.254Z"
   },
   {
    "duration": 10,
    "start_time": "2022-08-15T09:48:36.692Z"
   },
   {
    "duration": 6,
    "start_time": "2022-08-15T09:51:09.779Z"
   },
   {
    "duration": 9,
    "start_time": "2022-08-15T09:51:31.477Z"
   },
   {
    "duration": 13,
    "start_time": "2022-08-15T09:51:51.955Z"
   },
   {
    "duration": 13,
    "start_time": "2022-08-15T09:52:01.726Z"
   },
   {
    "duration": 12,
    "start_time": "2022-08-15T09:52:23.085Z"
   },
   {
    "duration": 10,
    "start_time": "2022-08-15T09:53:19.583Z"
   },
   {
    "duration": 1360,
    "start_time": "2022-08-15T09:57:51.927Z"
   },
   {
    "duration": 13,
    "start_time": "2022-08-15T09:58:15.414Z"
   },
   {
    "duration": 14,
    "start_time": "2022-08-15T09:58:22.546Z"
   },
   {
    "duration": 27,
    "start_time": "2022-08-15T09:59:39.509Z"
   },
   {
    "duration": 26,
    "start_time": "2022-08-15T10:00:01.180Z"
   },
   {
    "duration": 11,
    "start_time": "2022-08-15T10:05:40.943Z"
   },
   {
    "duration": 4,
    "start_time": "2022-08-15T10:07:39.735Z"
   },
   {
    "duration": 5,
    "start_time": "2022-08-15T10:07:58.322Z"
   },
   {
    "duration": 6,
    "start_time": "2022-08-15T10:08:32.017Z"
   },
   {
    "duration": 4,
    "start_time": "2022-08-15T10:08:45.626Z"
   },
   {
    "duration": 6,
    "start_time": "2022-08-15T10:38:20.258Z"
   },
   {
    "duration": 9,
    "start_time": "2022-08-15T10:38:55.142Z"
   },
   {
    "duration": 5,
    "start_time": "2022-08-15T10:39:09.914Z"
   },
   {
    "duration": 3,
    "start_time": "2022-08-15T10:45:20.999Z"
   },
   {
    "duration": 10,
    "start_time": "2022-08-15T10:46:50.500Z"
   },
   {
    "duration": 5,
    "start_time": "2022-08-15T10:46:58.686Z"
   },
   {
    "duration": 10,
    "start_time": "2022-08-15T10:47:01.819Z"
   },
   {
    "duration": 19,
    "start_time": "2022-08-15T10:48:02.113Z"
   },
   {
    "duration": 9,
    "start_time": "2022-08-15T11:12:49.778Z"
   },
   {
    "duration": 9,
    "start_time": "2022-08-15T11:13:00.450Z"
   },
   {
    "duration": 19,
    "start_time": "2022-08-15T12:44:19.089Z"
   },
   {
    "duration": 11,
    "start_time": "2022-08-15T12:44:51.127Z"
   },
   {
    "duration": 79,
    "start_time": "2022-08-15T12:45:02.325Z"
   },
   {
    "duration": 17,
    "start_time": "2022-08-15T12:45:05.174Z"
   },
   {
    "duration": 18,
    "start_time": "2022-08-15T12:45:57.401Z"
   },
   {
    "duration": 11,
    "start_time": "2022-08-15T12:46:01.340Z"
   },
   {
    "duration": 39,
    "start_time": "2022-08-15T12:46:05.959Z"
   },
   {
    "duration": 5,
    "start_time": "2022-08-15T12:46:09.338Z"
   },
   {
    "duration": 12,
    "start_time": "2022-08-15T12:46:11.994Z"
   },
   {
    "duration": 6,
    "start_time": "2022-08-15T12:46:16.391Z"
   },
   {
    "duration": 6,
    "start_time": "2022-08-15T12:46:19.333Z"
   },
   {
    "duration": 5,
    "start_time": "2022-08-15T12:46:22.408Z"
   },
   {
    "duration": 60,
    "start_time": "2022-08-15T12:46:42.103Z"
   },
   {
    "duration": 10,
    "start_time": "2022-08-15T12:47:00.411Z"
   },
   {
    "duration": 4,
    "start_time": "2022-08-15T12:47:03.976Z"
   },
   {
    "duration": 12,
    "start_time": "2022-08-15T12:47:07.093Z"
   },
   {
    "duration": 29,
    "start_time": "2022-08-15T12:47:13.116Z"
   },
   {
    "duration": 18,
    "start_time": "2022-08-15T12:47:16.276Z"
   },
   {
    "duration": 4,
    "start_time": "2022-08-15T12:47:19.082Z"
   },
   {
    "duration": 10,
    "start_time": "2022-08-15T12:47:21.650Z"
   },
   {
    "duration": 7,
    "start_time": "2022-08-15T12:47:23.779Z"
   },
   {
    "duration": 4,
    "start_time": "2022-08-15T12:47:27.268Z"
   },
   {
    "duration": 19,
    "start_time": "2022-08-15T12:47:31.774Z"
   },
   {
    "duration": 6,
    "start_time": "2022-08-15T12:47:37.119Z"
   },
   {
    "duration": 16,
    "start_time": "2022-08-15T12:48:16.245Z"
   },
   {
    "duration": 11,
    "start_time": "2022-08-15T14:19:27.105Z"
   },
   {
    "duration": 77,
    "start_time": "2022-08-15T14:19:46.411Z"
   },
   {
    "duration": 16,
    "start_time": "2022-08-15T14:19:49.729Z"
   },
   {
    "duration": 16,
    "start_time": "2022-08-15T14:19:53.377Z"
   },
   {
    "duration": 12,
    "start_time": "2022-08-15T14:19:56.400Z"
   },
   {
    "duration": 37,
    "start_time": "2022-08-15T14:19:59.288Z"
   },
   {
    "duration": 4,
    "start_time": "2022-08-15T14:20:02.206Z"
   },
   {
    "duration": 8,
    "start_time": "2022-08-15T14:20:04.269Z"
   },
   {
    "duration": 5,
    "start_time": "2022-08-15T14:20:07.708Z"
   },
   {
    "duration": 6,
    "start_time": "2022-08-15T14:20:11.028Z"
   },
   {
    "duration": 6,
    "start_time": "2022-08-15T14:20:12.990Z"
   },
   {
    "duration": 41,
    "start_time": "2022-08-15T14:20:17.123Z"
   },
   {
    "duration": 11,
    "start_time": "2022-08-15T14:20:19.955Z"
   },
   {
    "duration": 4,
    "start_time": "2022-08-15T14:20:23.814Z"
   },
   {
    "duration": 14,
    "start_time": "2022-08-15T14:20:26.321Z"
   },
   {
    "duration": 21,
    "start_time": "2022-08-15T14:20:28.588Z"
   },
   {
    "duration": 19,
    "start_time": "2022-08-15T14:20:31.841Z"
   },
   {
    "duration": 4,
    "start_time": "2022-08-15T14:20:49.532Z"
   },
   {
    "duration": 10,
    "start_time": "2022-08-15T14:20:51.837Z"
   },
   {
    "duration": 6,
    "start_time": "2022-08-15T14:20:53.847Z"
   },
   {
    "duration": 3,
    "start_time": "2022-08-15T14:20:57.156Z"
   },
   {
    "duration": 15,
    "start_time": "2022-08-15T14:21:02.424Z"
   },
   {
    "duration": 10,
    "start_time": "2022-08-15T14:21:06.969Z"
   },
   {
    "duration": 9,
    "start_time": "2022-08-15T14:22:04.783Z"
   },
   {
    "duration": 11,
    "start_time": "2022-08-15T14:22:21.491Z"
   },
   {
    "duration": 10,
    "start_time": "2022-08-15T14:23:52.421Z"
   },
   {
    "duration": 16,
    "start_time": "2022-08-15T14:26:35.693Z"
   },
   {
    "duration": 2067,
    "start_time": "2022-08-15T14:40:52.586Z"
   },
   {
    "duration": 1512,
    "start_time": "2022-08-15T14:42:24.219Z"
   },
   {
    "duration": 18,
    "start_time": "2022-08-15T14:42:38.863Z"
   },
   {
    "duration": 27,
    "start_time": "2022-08-15T14:51:45.387Z"
   },
   {
    "duration": 1688,
    "start_time": "2022-08-15T15:00:11.523Z"
   },
   {
    "duration": 17,
    "start_time": "2022-08-15T15:02:08.253Z"
   },
   {
    "duration": 508,
    "start_time": "2022-08-15T17:48:40.680Z"
   },
   {
    "duration": 25,
    "start_time": "2022-08-15T17:48:41.190Z"
   },
   {
    "duration": 19,
    "start_time": "2022-08-15T17:48:41.217Z"
   },
   {
    "duration": 11,
    "start_time": "2022-08-15T17:48:41.238Z"
   },
   {
    "duration": 58,
    "start_time": "2022-08-15T17:48:41.251Z"
   },
   {
    "duration": 3,
    "start_time": "2022-08-15T17:48:41.311Z"
   },
   {
    "duration": 10,
    "start_time": "2022-08-15T17:48:41.316Z"
   },
   {
    "duration": 5,
    "start_time": "2022-08-15T17:48:41.327Z"
   },
   {
    "duration": 10,
    "start_time": "2022-08-15T17:48:41.333Z"
   },
   {
    "duration": 7,
    "start_time": "2022-08-15T17:48:41.344Z"
   },
   {
    "duration": 56,
    "start_time": "2022-08-15T17:48:41.352Z"
   },
   {
    "duration": 10,
    "start_time": "2022-08-15T17:48:41.409Z"
   },
   {
    "duration": 3,
    "start_time": "2022-08-15T17:48:41.421Z"
   },
   {
    "duration": 12,
    "start_time": "2022-08-15T17:48:41.427Z"
   },
   {
    "duration": 19,
    "start_time": "2022-08-15T17:48:41.441Z"
   },
   {
    "duration": 33,
    "start_time": "2022-08-15T17:48:41.462Z"
   },
   {
    "duration": 3,
    "start_time": "2022-08-15T17:48:41.496Z"
   },
   {
    "duration": 11,
    "start_time": "2022-08-15T17:48:41.501Z"
   },
   {
    "duration": 7,
    "start_time": "2022-08-15T17:48:41.514Z"
   },
   {
    "duration": 3,
    "start_time": "2022-08-15T17:48:41.522Z"
   },
   {
    "duration": 17,
    "start_time": "2022-08-15T17:48:41.526Z"
   },
   {
    "duration": 43,
    "start_time": "2022-08-15T17:48:41.544Z"
   },
   {
    "duration": 14,
    "start_time": "2022-08-15T17:48:41.589Z"
   },
   {
    "duration": 30,
    "start_time": "2022-08-15T17:48:41.606Z"
   },
   {
    "duration": 21,
    "start_time": "2022-08-15T17:48:41.638Z"
   },
   {
    "duration": 46,
    "start_time": "2022-08-17T09:51:47.250Z"
   },
   {
    "duration": 700,
    "start_time": "2022-08-17T09:52:03.837Z"
   },
   {
    "duration": 23,
    "start_time": "2022-08-17T09:52:07.025Z"
   },
   {
    "duration": 15,
    "start_time": "2022-08-17T09:52:10.695Z"
   },
   {
    "duration": 9,
    "start_time": "2022-08-17T09:52:14.073Z"
   },
   {
    "duration": 32,
    "start_time": "2022-08-17T09:52:17.437Z"
   },
   {
    "duration": 4,
    "start_time": "2022-08-17T09:52:20.345Z"
   },
   {
    "duration": 10,
    "start_time": "2022-08-17T09:52:22.306Z"
   },
   {
    "duration": 5,
    "start_time": "2022-08-17T09:52:25.521Z"
   },
   {
    "duration": 8,
    "start_time": "2022-08-17T09:52:28.555Z"
   },
   {
    "duration": 5,
    "start_time": "2022-08-17T09:52:30.952Z"
   },
   {
    "duration": 40,
    "start_time": "2022-08-17T09:52:33.838Z"
   },
   {
    "duration": 9,
    "start_time": "2022-08-17T09:52:36.551Z"
   },
   {
    "duration": 4,
    "start_time": "2022-08-17T09:52:39.869Z"
   },
   {
    "duration": 11,
    "start_time": "2022-08-17T09:52:43.544Z"
   },
   {
    "duration": 24,
    "start_time": "2022-08-17T09:52:45.670Z"
   },
   {
    "duration": 24,
    "start_time": "2022-08-17T09:52:48.494Z"
   },
   {
    "duration": 4,
    "start_time": "2022-08-17T09:52:51.065Z"
   },
   {
    "duration": 12,
    "start_time": "2022-08-17T09:53:00.409Z"
   },
   {
    "duration": 5,
    "start_time": "2022-08-17T09:53:03.039Z"
   },
   {
    "duration": 3,
    "start_time": "2022-08-17T09:53:08.229Z"
   },
   {
    "duration": 19,
    "start_time": "2022-08-17T09:53:13.786Z"
   },
   {
    "duration": 16,
    "start_time": "2022-08-17T09:53:20.520Z"
   },
   {
    "duration": 16,
    "start_time": "2022-08-17T09:53:25.536Z"
   },
   {
    "duration": 1078,
    "start_time": "2022-08-17T10:03:07.270Z"
   },
   {
    "duration": 143,
    "start_time": "2022-08-17T10:05:07.648Z"
   },
   {
    "duration": 126,
    "start_time": "2022-08-17T10:06:09.710Z"
   },
   {
    "duration": 428,
    "start_time": "2022-08-17T10:06:55.653Z"
   },
   {
    "duration": 391,
    "start_time": "2022-08-17T10:07:19.455Z"
   },
   {
    "duration": 196,
    "start_time": "2022-08-17T10:09:53.720Z"
   },
   {
    "duration": 182,
    "start_time": "2022-08-17T10:10:14.522Z"
   },
   {
    "duration": 393,
    "start_time": "2022-08-17T10:10:48.287Z"
   },
   {
    "duration": 406,
    "start_time": "2022-08-17T10:11:21.630Z"
   },
   {
    "duration": 391,
    "start_time": "2022-08-17T10:11:32.756Z"
   },
   {
    "duration": 347,
    "start_time": "2022-08-17T10:13:44.426Z"
   }
  ],
  "colab": {
   "name": "dpp_template_part2.ipynb",
   "provenance": []
  },
  "kernelspec": {
   "display_name": "Python 3 (ipykernel)",
   "language": "python",
   "name": "python3"
  },
  "language_info": {
   "codemirror_mode": {
    "name": "ipython",
    "version": 3
   },
   "file_extension": ".py",
   "mimetype": "text/x-python",
   "name": "python",
   "nbconvert_exporter": "python",
   "pygments_lexer": "ipython3",
   "version": "3.9.5"
  },
  "toc": {
   "base_numbering": 1,
   "nav_menu": {
    "height": "468.984px",
    "width": "207.5px"
   },
   "number_sections": true,
   "sideBar": true,
   "skip_h1_title": true,
   "title_cell": "Table of Contents",
   "title_sidebar": "Contents",
   "toc_cell": false,
   "toc_position": {},
   "toc_section_display": true,
   "toc_window_display": false
  }
 },
 "nbformat": 4,
 "nbformat_minor": 5
}
